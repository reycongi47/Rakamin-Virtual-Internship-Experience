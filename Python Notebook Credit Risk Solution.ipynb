{
 "cells": [
  {
   "cell_type": "markdown",
   "metadata": {},
   "source": [
    "# Credit Risk Solution"
   ]
  },
  {
   "cell_type": "markdown",
   "metadata": {},
   "source": [
    "# Data Processing"
   ]
  },
  {
   "cell_type": "code",
   "execution_count": 1,
   "metadata": {},
   "outputs": [],
   "source": [
    "import numpy as np #linear algebra\n",
    "import pandas as pd #data processing, CSV file \n",
    "import seaborn as sns #graph\n",
    "import matplotlib.pyplot as plt #graph\n",
    "\n",
    "filepath = 'C:/Users/Cindy/Code/Input/loan_data_2007_2014.csv'"
   ]
  },
  {
   "cell_type": "code",
   "execution_count": 2,
   "metadata": {},
   "outputs": [],
   "source": [
    "#membaca dara csv loan_data_2007_2014.csv\n",
    "data = pd.read_csv(filepath, low_memory=False)"
   ]
  },
  {
   "cell_type": "code",
   "execution_count": 3,
   "metadata": {},
   "outputs": [
    {
     "data": {
      "text/html": [
       "<div>\n",
       "<style scoped>\n",
       "    .dataframe tbody tr th:only-of-type {\n",
       "        vertical-align: middle;\n",
       "    }\n",
       "\n",
       "    .dataframe tbody tr th {\n",
       "        vertical-align: top;\n",
       "    }\n",
       "\n",
       "    .dataframe thead th {\n",
       "        text-align: right;\n",
       "    }\n",
       "</style>\n",
       "<table border=\"1\" class=\"dataframe\">\n",
       "  <thead>\n",
       "    <tr style=\"text-align: right;\">\n",
       "      <th></th>\n",
       "      <th>Unnamed: 0</th>\n",
       "      <th>id</th>\n",
       "      <th>member_id</th>\n",
       "      <th>loan_amnt</th>\n",
       "      <th>funded_amnt</th>\n",
       "      <th>funded_amnt_inv</th>\n",
       "      <th>term</th>\n",
       "      <th>int_rate</th>\n",
       "      <th>installment</th>\n",
       "      <th>grade</th>\n",
       "      <th>...</th>\n",
       "      <th>total_bal_il</th>\n",
       "      <th>il_util</th>\n",
       "      <th>open_rv_12m</th>\n",
       "      <th>open_rv_24m</th>\n",
       "      <th>max_bal_bc</th>\n",
       "      <th>all_util</th>\n",
       "      <th>total_rev_hi_lim</th>\n",
       "      <th>inq_fi</th>\n",
       "      <th>total_cu_tl</th>\n",
       "      <th>inq_last_12m</th>\n",
       "    </tr>\n",
       "  </thead>\n",
       "  <tbody>\n",
       "    <tr>\n",
       "      <th>0</th>\n",
       "      <td>0</td>\n",
       "      <td>1077501</td>\n",
       "      <td>1296599</td>\n",
       "      <td>5000</td>\n",
       "      <td>5000</td>\n",
       "      <td>4975.0</td>\n",
       "      <td>36 months</td>\n",
       "      <td>10.65</td>\n",
       "      <td>162.87</td>\n",
       "      <td>B</td>\n",
       "      <td>...</td>\n",
       "      <td>NaN</td>\n",
       "      <td>NaN</td>\n",
       "      <td>NaN</td>\n",
       "      <td>NaN</td>\n",
       "      <td>NaN</td>\n",
       "      <td>NaN</td>\n",
       "      <td>NaN</td>\n",
       "      <td>NaN</td>\n",
       "      <td>NaN</td>\n",
       "      <td>NaN</td>\n",
       "    </tr>\n",
       "    <tr>\n",
       "      <th>1</th>\n",
       "      <td>1</td>\n",
       "      <td>1077430</td>\n",
       "      <td>1314167</td>\n",
       "      <td>2500</td>\n",
       "      <td>2500</td>\n",
       "      <td>2500.0</td>\n",
       "      <td>60 months</td>\n",
       "      <td>15.27</td>\n",
       "      <td>59.83</td>\n",
       "      <td>C</td>\n",
       "      <td>...</td>\n",
       "      <td>NaN</td>\n",
       "      <td>NaN</td>\n",
       "      <td>NaN</td>\n",
       "      <td>NaN</td>\n",
       "      <td>NaN</td>\n",
       "      <td>NaN</td>\n",
       "      <td>NaN</td>\n",
       "      <td>NaN</td>\n",
       "      <td>NaN</td>\n",
       "      <td>NaN</td>\n",
       "    </tr>\n",
       "    <tr>\n",
       "      <th>2</th>\n",
       "      <td>2</td>\n",
       "      <td>1077175</td>\n",
       "      <td>1313524</td>\n",
       "      <td>2400</td>\n",
       "      <td>2400</td>\n",
       "      <td>2400.0</td>\n",
       "      <td>36 months</td>\n",
       "      <td>15.96</td>\n",
       "      <td>84.33</td>\n",
       "      <td>C</td>\n",
       "      <td>...</td>\n",
       "      <td>NaN</td>\n",
       "      <td>NaN</td>\n",
       "      <td>NaN</td>\n",
       "      <td>NaN</td>\n",
       "      <td>NaN</td>\n",
       "      <td>NaN</td>\n",
       "      <td>NaN</td>\n",
       "      <td>NaN</td>\n",
       "      <td>NaN</td>\n",
       "      <td>NaN</td>\n",
       "    </tr>\n",
       "    <tr>\n",
       "      <th>3</th>\n",
       "      <td>3</td>\n",
       "      <td>1076863</td>\n",
       "      <td>1277178</td>\n",
       "      <td>10000</td>\n",
       "      <td>10000</td>\n",
       "      <td>10000.0</td>\n",
       "      <td>36 months</td>\n",
       "      <td>13.49</td>\n",
       "      <td>339.31</td>\n",
       "      <td>C</td>\n",
       "      <td>...</td>\n",
       "      <td>NaN</td>\n",
       "      <td>NaN</td>\n",
       "      <td>NaN</td>\n",
       "      <td>NaN</td>\n",
       "      <td>NaN</td>\n",
       "      <td>NaN</td>\n",
       "      <td>NaN</td>\n",
       "      <td>NaN</td>\n",
       "      <td>NaN</td>\n",
       "      <td>NaN</td>\n",
       "    </tr>\n",
       "    <tr>\n",
       "      <th>4</th>\n",
       "      <td>4</td>\n",
       "      <td>1075358</td>\n",
       "      <td>1311748</td>\n",
       "      <td>3000</td>\n",
       "      <td>3000</td>\n",
       "      <td>3000.0</td>\n",
       "      <td>60 months</td>\n",
       "      <td>12.69</td>\n",
       "      <td>67.79</td>\n",
       "      <td>B</td>\n",
       "      <td>...</td>\n",
       "      <td>NaN</td>\n",
       "      <td>NaN</td>\n",
       "      <td>NaN</td>\n",
       "      <td>NaN</td>\n",
       "      <td>NaN</td>\n",
       "      <td>NaN</td>\n",
       "      <td>NaN</td>\n",
       "      <td>NaN</td>\n",
       "      <td>NaN</td>\n",
       "      <td>NaN</td>\n",
       "    </tr>\n",
       "  </tbody>\n",
       "</table>\n",
       "<p>5 rows × 75 columns</p>\n",
       "</div>"
      ],
      "text/plain": [
       "   Unnamed: 0       id  member_id  loan_amnt  funded_amnt  funded_amnt_inv  \\\n",
       "0           0  1077501    1296599       5000         5000           4975.0   \n",
       "1           1  1077430    1314167       2500         2500           2500.0   \n",
       "2           2  1077175    1313524       2400         2400           2400.0   \n",
       "3           3  1076863    1277178      10000        10000          10000.0   \n",
       "4           4  1075358    1311748       3000         3000           3000.0   \n",
       "\n",
       "         term  int_rate  installment grade  ... total_bal_il il_util  \\\n",
       "0   36 months     10.65       162.87     B  ...          NaN     NaN   \n",
       "1   60 months     15.27        59.83     C  ...          NaN     NaN   \n",
       "2   36 months     15.96        84.33     C  ...          NaN     NaN   \n",
       "3   36 months     13.49       339.31     C  ...          NaN     NaN   \n",
       "4   60 months     12.69        67.79     B  ...          NaN     NaN   \n",
       "\n",
       "  open_rv_12m open_rv_24m  max_bal_bc all_util total_rev_hi_lim inq_fi  \\\n",
       "0         NaN         NaN         NaN      NaN              NaN    NaN   \n",
       "1         NaN         NaN         NaN      NaN              NaN    NaN   \n",
       "2         NaN         NaN         NaN      NaN              NaN    NaN   \n",
       "3         NaN         NaN         NaN      NaN              NaN    NaN   \n",
       "4         NaN         NaN         NaN      NaN              NaN    NaN   \n",
       "\n",
       "  total_cu_tl inq_last_12m  \n",
       "0         NaN          NaN  \n",
       "1         NaN          NaN  \n",
       "2         NaN          NaN  \n",
       "3         NaN          NaN  \n",
       "4         NaN          NaN  \n",
       "\n",
       "[5 rows x 75 columns]"
      ]
     },
     "execution_count": 3,
     "metadata": {},
     "output_type": "execute_result"
    }
   ],
   "source": [
    "data.head()"
   ]
  },
  {
   "cell_type": "code",
   "execution_count": 4,
   "metadata": {},
   "outputs": [
    {
     "name": "stdout",
     "output_type": "stream",
     "text": [
      "<class 'pandas.core.frame.DataFrame'>\n",
      "RangeIndex: 466285 entries, 0 to 466284\n",
      "Data columns (total 75 columns):\n",
      " #   Column                       Non-Null Count   Dtype  \n",
      "---  ------                       --------------   -----  \n",
      " 0   Unnamed: 0                   466285 non-null  int64  \n",
      " 1   id                           466285 non-null  int64  \n",
      " 2   member_id                    466285 non-null  int64  \n",
      " 3   loan_amnt                    466285 non-null  int64  \n",
      " 4   funded_amnt                  466285 non-null  int64  \n",
      " 5   funded_amnt_inv              466285 non-null  float64\n",
      " 6   term                         466285 non-null  object \n",
      " 7   int_rate                     466285 non-null  float64\n",
      " 8   installment                  466285 non-null  float64\n",
      " 9   grade                        466285 non-null  object \n",
      " 10  sub_grade                    466285 non-null  object \n",
      " 11  emp_title                    438697 non-null  object \n",
      " 12  emp_length                   445277 non-null  object \n",
      " 13  home_ownership               466285 non-null  object \n",
      " 14  annual_inc                   466281 non-null  float64\n",
      " 15  verification_status          466285 non-null  object \n",
      " 16  issue_d                      466285 non-null  object \n",
      " 17  loan_status                  466285 non-null  object \n",
      " 18  pymnt_plan                   466285 non-null  object \n",
      " 19  url                          466285 non-null  object \n",
      " 20  desc                         125983 non-null  object \n",
      " 21  purpose                      466285 non-null  object \n",
      " 22  title                        466265 non-null  object \n",
      " 23  zip_code                     466285 non-null  object \n",
      " 24  addr_state                   466285 non-null  object \n",
      " 25  dti                          466285 non-null  float64\n",
      " 26  delinq_2yrs                  466256 non-null  float64\n",
      " 27  earliest_cr_line             466256 non-null  object \n",
      " 28  inq_last_6mths               466256 non-null  float64\n",
      " 29  mths_since_last_delinq       215934 non-null  float64\n",
      " 30  mths_since_last_record       62638 non-null   float64\n",
      " 31  open_acc                     466256 non-null  float64\n",
      " 32  pub_rec                      466256 non-null  float64\n",
      " 33  revol_bal                    466285 non-null  int64  \n",
      " 34  revol_util                   465945 non-null  float64\n",
      " 35  total_acc                    466256 non-null  float64\n",
      " 36  initial_list_status          466285 non-null  object \n",
      " 37  out_prncp                    466285 non-null  float64\n",
      " 38  out_prncp_inv                466285 non-null  float64\n",
      " 39  total_pymnt                  466285 non-null  float64\n",
      " 40  total_pymnt_inv              466285 non-null  float64\n",
      " 41  total_rec_prncp              466285 non-null  float64\n",
      " 42  total_rec_int                466285 non-null  float64\n",
      " 43  total_rec_late_fee           466285 non-null  float64\n",
      " 44  recoveries                   466285 non-null  float64\n",
      " 45  collection_recovery_fee      466285 non-null  float64\n",
      " 46  last_pymnt_d                 465909 non-null  object \n",
      " 47  last_pymnt_amnt              466285 non-null  float64\n",
      " 48  next_pymnt_d                 239071 non-null  object \n",
      " 49  last_credit_pull_d           466243 non-null  object \n",
      " 50  collections_12_mths_ex_med   466140 non-null  float64\n",
      " 51  mths_since_last_major_derog  98974 non-null   float64\n",
      " 52  policy_code                  466285 non-null  int64  \n",
      " 53  application_type             466285 non-null  object \n",
      " 54  annual_inc_joint             0 non-null       float64\n",
      " 55  dti_joint                    0 non-null       float64\n",
      " 56  verification_status_joint    0 non-null       float64\n",
      " 57  acc_now_delinq               466256 non-null  float64\n",
      " 58  tot_coll_amt                 396009 non-null  float64\n",
      " 59  tot_cur_bal                  396009 non-null  float64\n",
      " 60  open_acc_6m                  0 non-null       float64\n",
      " 61  open_il_6m                   0 non-null       float64\n",
      " 62  open_il_12m                  0 non-null       float64\n",
      " 63  open_il_24m                  0 non-null       float64\n",
      " 64  mths_since_rcnt_il           0 non-null       float64\n",
      " 65  total_bal_il                 0 non-null       float64\n",
      " 66  il_util                      0 non-null       float64\n",
      " 67  open_rv_12m                  0 non-null       float64\n",
      " 68  open_rv_24m                  0 non-null       float64\n",
      " 69  max_bal_bc                   0 non-null       float64\n",
      " 70  all_util                     0 non-null       float64\n",
      " 71  total_rev_hi_lim             396009 non-null  float64\n",
      " 72  inq_fi                       0 non-null       float64\n",
      " 73  total_cu_tl                  0 non-null       float64\n",
      " 74  inq_last_12m                 0 non-null       float64\n",
      "dtypes: float64(46), int64(7), object(22)\n",
      "memory usage: 266.8+ MB\n"
     ]
    }
   ],
   "source": [
    "data.info()"
   ]
  },
  {
   "cell_type": "markdown",
   "metadata": {},
   "source": [
    "Kita lihat banyak columns bernilai nulls, maka kita akan membuang columns tersebut. 'Unnamed:0' juga akan dibuang karena data tersebut hanyalah indeks"
   ]
  },
  {
   "cell_type": "code",
   "execution_count": 5,
   "metadata": {},
   "outputs": [],
   "source": [
    "#membuang beberapa kolom data null\n",
    "drop_col = ['Unnamed: 0', 'annual_inc_joint', 'dti_joint', 'verification_status_joint',\n",
    "       'open_acc_6m', 'open_il_6m', 'open_il_12m', 'open_il_24m',\n",
    "       'mths_since_rcnt_il', 'total_bal_il', 'il_util', 'open_rv_12m',\n",
    "       'open_rv_24m', 'max_bal_bc', 'all_util', 'inq_fi', 'total_cu_tl',\n",
    "       'inq_last_12m']\n",
    "\n",
    "new_data = data.drop(columns=drop_col, axis=1)"
   ]
  },
  {
   "cell_type": "code",
   "execution_count": 6,
   "metadata": {},
   "outputs": [
    {
     "name": "stdout",
     "output_type": "stream",
     "text": [
      "<class 'pandas.core.frame.DataFrame'>\n",
      "RangeIndex: 466285 entries, 0 to 466284\n",
      "Data columns (total 57 columns):\n",
      " #   Column                       Non-Null Count   Dtype  \n",
      "---  ------                       --------------   -----  \n",
      " 0   id                           466285 non-null  int64  \n",
      " 1   member_id                    466285 non-null  int64  \n",
      " 2   loan_amnt                    466285 non-null  int64  \n",
      " 3   funded_amnt                  466285 non-null  int64  \n",
      " 4   funded_amnt_inv              466285 non-null  float64\n",
      " 5   term                         466285 non-null  object \n",
      " 6   int_rate                     466285 non-null  float64\n",
      " 7   installment                  466285 non-null  float64\n",
      " 8   grade                        466285 non-null  object \n",
      " 9   sub_grade                    466285 non-null  object \n",
      " 10  emp_title                    438697 non-null  object \n",
      " 11  emp_length                   445277 non-null  object \n",
      " 12  home_ownership               466285 non-null  object \n",
      " 13  annual_inc                   466281 non-null  float64\n",
      " 14  verification_status          466285 non-null  object \n",
      " 15  issue_d                      466285 non-null  object \n",
      " 16  loan_status                  466285 non-null  object \n",
      " 17  pymnt_plan                   466285 non-null  object \n",
      " 18  url                          466285 non-null  object \n",
      " 19  desc                         125983 non-null  object \n",
      " 20  purpose                      466285 non-null  object \n",
      " 21  title                        466265 non-null  object \n",
      " 22  zip_code                     466285 non-null  object \n",
      " 23  addr_state                   466285 non-null  object \n",
      " 24  dti                          466285 non-null  float64\n",
      " 25  delinq_2yrs                  466256 non-null  float64\n",
      " 26  earliest_cr_line             466256 non-null  object \n",
      " 27  inq_last_6mths               466256 non-null  float64\n",
      " 28  mths_since_last_delinq       215934 non-null  float64\n",
      " 29  mths_since_last_record       62638 non-null   float64\n",
      " 30  open_acc                     466256 non-null  float64\n",
      " 31  pub_rec                      466256 non-null  float64\n",
      " 32  revol_bal                    466285 non-null  int64  \n",
      " 33  revol_util                   465945 non-null  float64\n",
      " 34  total_acc                    466256 non-null  float64\n",
      " 35  initial_list_status          466285 non-null  object \n",
      " 36  out_prncp                    466285 non-null  float64\n",
      " 37  out_prncp_inv                466285 non-null  float64\n",
      " 38  total_pymnt                  466285 non-null  float64\n",
      " 39  total_pymnt_inv              466285 non-null  float64\n",
      " 40  total_rec_prncp              466285 non-null  float64\n",
      " 41  total_rec_int                466285 non-null  float64\n",
      " 42  total_rec_late_fee           466285 non-null  float64\n",
      " 43  recoveries                   466285 non-null  float64\n",
      " 44  collection_recovery_fee      466285 non-null  float64\n",
      " 45  last_pymnt_d                 465909 non-null  object \n",
      " 46  last_pymnt_amnt              466285 non-null  float64\n",
      " 47  next_pymnt_d                 239071 non-null  object \n",
      " 48  last_credit_pull_d           466243 non-null  object \n",
      " 49  collections_12_mths_ex_med   466140 non-null  float64\n",
      " 50  mths_since_last_major_derog  98974 non-null   float64\n",
      " 51  policy_code                  466285 non-null  int64  \n",
      " 52  application_type             466285 non-null  object \n",
      " 53  acc_now_delinq               466256 non-null  float64\n",
      " 54  tot_coll_amt                 396009 non-null  float64\n",
      " 55  tot_cur_bal                  396009 non-null  float64\n",
      " 56  total_rev_hi_lim             396009 non-null  float64\n",
      "dtypes: float64(29), int64(6), object(22)\n",
      "memory usage: 202.8+ MB\n"
     ]
    }
   ],
   "source": [
    "#mengecek kembali apakah kolom yang di drop telah hilang\n",
    "new_data.info() "
   ]
  },
  {
   "cell_type": "code",
   "execution_count": 7,
   "metadata": {},
   "outputs": [
    {
     "data": {
      "text/plain": [
       "Current                                                224226\n",
       "Fully Paid                                             184739\n",
       "Charged Off                                             42475\n",
       "Late (31-120 days)                                       6900\n",
       "In Grace Period                                          3146\n",
       "Does not meet the credit policy. Status:Fully Paid       1988\n",
       "Late (16-30 days)                                        1218\n",
       "Default                                                   832\n",
       "Does not meet the credit policy. Status:Charged Off       761\n",
       "Name: loan_status, dtype: int64"
      ]
     },
     "execution_count": 7,
     "metadata": {},
     "output_type": "execute_result"
    }
   ],
   "source": [
    "# loan status adalah target data yang akan kita gunakan\n",
    "new_data.loan_status.value_counts()"
   ]
  },
  {
   "cell_type": "markdown",
   "metadata": {},
   "source": [
    "Selanjutnya kita akan memilah data di column 'loan_status' dan membagianya menjadi pinjaman risk dan good.\n",
    "\n",
    "Pastinya pinjaman good adalah 'Fully Paid', 'Does not meet the credit policy. Status:Fully Paid'\n",
    "sedangkan pinjaman risk adalah 'Charged Off', 'Late (31-120 days)', 'Late (16-30 days)', 'Default', 'Does not meet the credit policy. Status:Charged Off'\n",
    "\n",
    "Kita akan beberapa membuang rows seperti 'Current', 'In Grace Period' karena kita masih belum tau pasti apakah nantinya kedua data ini akan menjadi pinjaman good atau risk sehingga untuk saat ini kedua data tersebut akan dibuang untuk mengantisipasi kebaikan model"
   ]
  },
  {
   "cell_type": "code",
   "execution_count": 8,
   "metadata": {},
   "outputs": [],
   "source": [
    "#memilah loan status\n",
    "low_risk = ['Fully Paid', 'Does not meet the credit policy. Status:Fully Paid']\n",
    "\n",
    "#membuang rows yang ada current dan in grace period\n",
    "dropcol1 = ['Current', 'In Grace Period']\n",
    "new_data = new_data[new_data.loan_status.isin(dropcol1) == False]"
   ]
  },
  {
   "cell_type": "code",
   "execution_count": 9,
   "metadata": {},
   "outputs": [
    {
     "data": {
      "text/plain": [
       "Fully Paid                                             184739\n",
       "Charged Off                                             42475\n",
       "Late (31-120 days)                                       6900\n",
       "Does not meet the credit policy. Status:Fully Paid       1988\n",
       "Late (16-30 days)                                        1218\n",
       "Default                                                   832\n",
       "Does not meet the credit policy. Status:Charged Off       761\n",
       "Name: loan_status, dtype: int64"
      ]
     },
     "execution_count": 9,
     "metadata": {},
     "output_type": "execute_result"
    }
   ],
   "source": [
    "#melihat rows current dan in grace period telah terbuang\n",
    "new_data.loan_status.value_counts()"
   ]
  },
  {
   "cell_type": "code",
   "execution_count": 10,
   "metadata": {},
   "outputs": [],
   "source": [
    "#membuat kolom baru untuk mengklasifikasi\n",
    "new_data['loan_ending'] = np.where(new_data['loan_status'].isin(low_risk), 'good', 'risk')"
   ]
  },
  {
   "cell_type": "code",
   "execution_count": 11,
   "metadata": {},
   "outputs": [
    {
     "name": "stdout",
     "output_type": "stream",
     "text": [
      "<class 'pandas.core.frame.DataFrame'>\n",
      "Int64Index: 238913 entries, 0 to 466283\n",
      "Data columns (total 58 columns):\n",
      " #   Column                       Non-Null Count   Dtype  \n",
      "---  ------                       --------------   -----  \n",
      " 0   id                           238913 non-null  int64  \n",
      " 1   member_id                    238913 non-null  int64  \n",
      " 2   loan_amnt                    238913 non-null  int64  \n",
      " 3   funded_amnt                  238913 non-null  int64  \n",
      " 4   funded_amnt_inv              238913 non-null  float64\n",
      " 5   term                         238913 non-null  object \n",
      " 6   int_rate                     238913 non-null  float64\n",
      " 7   installment                  238913 non-null  float64\n",
      " 8   grade                        238913 non-null  object \n",
      " 9   sub_grade                    238913 non-null  object \n",
      " 10  emp_title                    225435 non-null  object \n",
      " 11  emp_length                   229688 non-null  object \n",
      " 12  home_ownership               238913 non-null  object \n",
      " 13  annual_inc                   238909 non-null  float64\n",
      " 14  verification_status          238913 non-null  object \n",
      " 15  issue_d                      238913 non-null  object \n",
      " 16  loan_status                  238913 non-null  object \n",
      " 17  pymnt_plan                   238913 non-null  object \n",
      " 18  url                          238913 non-null  object \n",
      " 19  desc                         92144 non-null   object \n",
      " 20  purpose                      238913 non-null  object \n",
      " 21  title                        238898 non-null  object \n",
      " 22  zip_code                     238913 non-null  object \n",
      " 23  addr_state                   238913 non-null  object \n",
      " 24  dti                          238913 non-null  float64\n",
      " 25  delinq_2yrs                  238884 non-null  float64\n",
      " 26  earliest_cr_line             238884 non-null  object \n",
      " 27  inq_last_6mths               238884 non-null  float64\n",
      " 28  mths_since_last_delinq       105385 non-null  float64\n",
      " 29  mths_since_last_record       28949 non-null   float64\n",
      " 30  open_acc                     238884 non-null  float64\n",
      " 31  pub_rec                      238884 non-null  float64\n",
      " 32  revol_bal                    238913 non-null  int64  \n",
      " 33  revol_util                   238681 non-null  float64\n",
      " 34  total_acc                    238884 non-null  float64\n",
      " 35  initial_list_status          238913 non-null  object \n",
      " 36  out_prncp                    238913 non-null  float64\n",
      " 37  out_prncp_inv                238913 non-null  float64\n",
      " 38  total_pymnt                  238913 non-null  float64\n",
      " 39  total_pymnt_inv              238913 non-null  float64\n",
      " 40  total_rec_prncp              238913 non-null  float64\n",
      " 41  total_rec_int                238913 non-null  float64\n",
      " 42  total_rec_late_fee           238913 non-null  float64\n",
      " 43  recoveries                   238913 non-null  float64\n",
      " 44  collection_recovery_fee      238913 non-null  float64\n",
      " 45  last_pymnt_d                 238537 non-null  object \n",
      " 46  last_pymnt_amnt              238913 non-null  float64\n",
      " 47  next_pymnt_d                 11699 non-null   object \n",
      " 48  last_credit_pull_d           238890 non-null  object \n",
      " 49  collections_12_mths_ex_med   238768 non-null  float64\n",
      " 50  mths_since_last_major_derog  42544 non-null   float64\n",
      " 51  policy_code                  238913 non-null  int64  \n",
      " 52  application_type             238913 non-null  object \n",
      " 53  acc_now_delinq               238884 non-null  float64\n",
      " 54  tot_coll_amt                 172290 non-null  float64\n",
      " 55  tot_cur_bal                  172290 non-null  float64\n",
      " 56  total_rev_hi_lim             172290 non-null  float64\n",
      " 57  loan_ending                  238913 non-null  object \n",
      "dtypes: float64(29), int64(6), object(23)\n",
      "memory usage: 107.5+ MB\n"
     ]
    }
   ],
   "source": [
    "new_data.info()"
   ]
  },
  {
   "cell_type": "code",
   "execution_count": 12,
   "metadata": {},
   "outputs": [
    {
     "data": {
      "text/plain": [
       "good    186727\n",
       "risk     52186\n",
       "Name: loan_ending, dtype: int64"
      ]
     },
     "execution_count": 12,
     "metadata": {},
     "output_type": "execute_result"
    }
   ],
   "source": [
    "new_data.loan_ending.value_counts()"
   ]
  },
  {
   "cell_type": "code",
   "execution_count": 14,
   "metadata": {},
   "outputs": [
    {
     "data": {
      "text/plain": [
       "<AxesSubplot:title={'center':'good vs risk loans'}>"
      ]
     },
     "execution_count": 14,
     "metadata": {},
     "output_type": "execute_result"
    },
    {
     "data": {
      "image/png": "[encoded data removed]",
      "text/plain": [
       "<Figure size 432x288 with 1 Axes>"
      ]
     },
     "metadata": {
      "needs_background": "light"
     },
     "output_type": "display_data"
    }
   ],
   "source": [
    "#membuat visualisasi plot antara pinjaman good vs risk\n",
    "plt.title('good vs risk loans')\n",
    "sns.barplot(x=new_data.loan_ending.value_counts().index,y=new_data.loan_ending.value_counts().values)"
   ]
  },
  {
   "cell_type": "markdown",
   "metadata": {},
   "source": [
    "# Melihat Isi dari columns dan data leakage"
   ]
  },
  {
   "cell_type": "code",
   "execution_count": 20,
   "metadata": {},
   "outputs": [
    {
     "name": "stdout",
     "output_type": "stream",
     "text": [
      "<class 'pandas.core.frame.DataFrame'>\n",
      "Int64Index: 238913 entries, 0 to 466283\n",
      "Data columns (total 58 columns):\n",
      " #   Column                       Non-Null Count   Dtype  \n",
      "---  ------                       --------------   -----  \n",
      " 0   id                           238913 non-null  int64  \n",
      " 1   member_id                    238913 non-null  int64  \n",
      " 2   loan_amnt                    238913 non-null  int64  \n",
      " 3   funded_amnt                  238913 non-null  int64  \n",
      " 4   funded_amnt_inv              238913 non-null  float64\n",
      " 5   term                         238913 non-null  object \n",
      " 6   int_rate                     238913 non-null  float64\n",
      " 7   installment                  238913 non-null  float64\n",
      " 8   grade                        238913 non-null  object \n",
      " 9   sub_grade                    238913 non-null  object \n",
      " 10  emp_title                    225435 non-null  object \n",
      " 11  emp_length                   229688 non-null  object \n",
      " 12  home_ownership               238913 non-null  object \n",
      " 13  annual_inc                   238909 non-null  float64\n",
      " 14  verification_status          238913 non-null  object \n",
      " 15  issue_d                      238913 non-null  object \n",
      " 16  loan_status                  238913 non-null  object \n",
      " 17  pymnt_plan                   238913 non-null  object \n",
      " 18  url                          238913 non-null  object \n",
      " 19  desc                         92144 non-null   object \n",
      " 20  purpose                      238913 non-null  object \n",
      " 21  title                        238898 non-null  object \n",
      " 22  zip_code                     238913 non-null  object \n",
      " 23  addr_state                   238913 non-null  object \n",
      " 24  dti                          238913 non-null  float64\n",
      " 25  delinq_2yrs                  238884 non-null  float64\n",
      " 26  earliest_cr_line             238884 non-null  object \n",
      " 27  inq_last_6mths               238884 non-null  float64\n",
      " 28  mths_since_last_delinq       105385 non-null  float64\n",
      " 29  mths_since_last_record       28949 non-null   float64\n",
      " 30  open_acc                     238884 non-null  float64\n",
      " 31  pub_rec                      238884 non-null  float64\n",
      " 32  revol_bal                    238913 non-null  int64  \n",
      " 33  revol_util                   238681 non-null  float64\n",
      " 34  total_acc                    238884 non-null  float64\n",
      " 35  initial_list_status          238913 non-null  object \n",
      " 36  out_prncp                    238913 non-null  float64\n",
      " 37  out_prncp_inv                238913 non-null  float64\n",
      " 38  total_pymnt                  238913 non-null  float64\n",
      " 39  total_pymnt_inv              238913 non-null  float64\n",
      " 40  total_rec_prncp              238913 non-null  float64\n",
      " 41  total_rec_int                238913 non-null  float64\n",
      " 42  total_rec_late_fee           238913 non-null  float64\n",
      " 43  recoveries                   238913 non-null  float64\n",
      " 44  collection_recovery_fee      238913 non-null  float64\n",
      " 45  last_pymnt_d                 238537 non-null  object \n",
      " 46  last_pymnt_amnt              238913 non-null  float64\n",
      " 47  next_pymnt_d                 11699 non-null   object \n",
      " 48  last_credit_pull_d           238890 non-null  object \n",
      " 49  collections_12_mths_ex_med   238768 non-null  float64\n",
      " 50  mths_since_last_major_derog  42544 non-null   float64\n",
      " 51  policy_code                  238913 non-null  int64  \n",
      " 52  application_type             238913 non-null  object \n",
      " 53  acc_now_delinq               238884 non-null  float64\n",
      " 54  tot_coll_amt                 172290 non-null  float64\n",
      " 55  tot_cur_bal                  172290 non-null  float64\n",
      " 56  total_rev_hi_lim             172290 non-null  float64\n",
      " 57  loan_ending                  238913 non-null  object \n",
      "dtypes: float64(29), int64(6), object(23)\n",
      "memory usage: 107.5+ MB\n"
     ]
    }
   ],
   "source": [
    "new_data.info()"
   ]
  },
  {
   "cell_type": "markdown",
   "metadata": {},
   "source": [
    "1. columns yang berhubungan dengan karakteristik pinjaman\n",
    "'id', 'loan_amnt', 'funded_amnt', 'installment', dsb\n",
    "\n",
    "2. columns/informasi yang berhubungan dengan identitas peminjam\n",
    "'member_id', 'emp_title', 'verification_status', 'addr_state', dsb\n",
    "\n",
    "3. columns/infomasi yang berhubungan dengan sejarah pinjaman peminjam\n",
    "'delinq_2yrs', 'ing_last_6mnth', 'pub_rec', 'acc_now_deliq', dsb\n",
    "\n",
    "4. columns/infomasi yang berhubungan dengan status pinjaman sekarang\n",
    "'issue_d', 'loan_status', 'last_pymnt_amnt', 'next_pymnt_d', dsb\n",
    "\n",
    "Dalam credit risk loan ini kita menggunakan infomasi (4) untuk mentukan risk, tetapi columns/infomasi yang disediakan bisa saja membuat model kurang efektif karena ada beberapa columns/infomasi yang dapat diprediksi secara langsung ketika kita melihat valuenya seperti 'recoveries'dimana ketika peminjam tidak dapat mengembalikan pinjaman dan perusahaan pinjaman akan melakukan proses pengembalian pinjaman sehingga menyebabkan pinjaman menjadi bad loan. \n",
    "\n",
    "Dari contoh columns tersebut, ketika kita menjalakan training model akan menghasilkan hasil yang bagus karena telah ada infomasi yang kita ingin prediksi tetapi pada percobaan model sesungguhnya akan tidak baik karena adanya 'Data Leakage' tersebut. Sehingga kita akan membuang/drop columns yang berisi data leakage"
   ]
  },
  {
   "cell_type": "code",
   "execution_count": 22,
   "metadata": {},
   "outputs": [],
   "source": [
    "#ini adalah list dari columns yang berisi data leakage\n",
    "leak_col = ['issue_d', 'loan_status', 'pymnt_plan', 'out_prncp', 'out_prncp_inv', 'total_pymnt', 'total_pymnt_inv', \n",
    "                   'total_rec_prncp', 'total_rec_int', 'total_rec_late_fee', 'recoveries', 'collection_recovery_fee', \n",
    "                   'last_pymnt_d', 'last_pymnt_amnt', 'next_pymnt_d']\n",
    "\n",
    "new_data.drop (columns=leak_col, axis=1, inplace=True)"
   ]
  },
  {
   "cell_type": "code",
   "execution_count": 23,
   "metadata": {},
   "outputs": [
    {
     "data": {
      "text/html": [
       "<div>\n",
       "<style scoped>\n",
       "    .dataframe tbody tr th:only-of-type {\n",
       "        vertical-align: middle;\n",
       "    }\n",
       "\n",
       "    .dataframe tbody tr th {\n",
       "        vertical-align: top;\n",
       "    }\n",
       "\n",
       "    .dataframe thead th {\n",
       "        text-align: right;\n",
       "    }\n",
       "</style>\n",
       "<table border=\"1\" class=\"dataframe\">\n",
       "  <thead>\n",
       "    <tr style=\"text-align: right;\">\n",
       "      <th></th>\n",
       "      <th>loan_amnt</th>\n",
       "      <th>funded_amnt</th>\n",
       "      <th>funded_amnt_inv</th>\n",
       "      <th>grade</th>\n",
       "      <th>sub_grade</th>\n",
       "      <th>desc</th>\n",
       "      <th>purpose</th>\n",
       "      <th>title</th>\n",
       "    </tr>\n",
       "  </thead>\n",
       "  <tbody>\n",
       "    <tr>\n",
       "      <th>0</th>\n",
       "      <td>5000</td>\n",
       "      <td>5000</td>\n",
       "      <td>4975.0</td>\n",
       "      <td>B</td>\n",
       "      <td>B2</td>\n",
       "      <td>Borrower added on 12/22/11 &gt; I need to upgra...</td>\n",
       "      <td>credit_card</td>\n",
       "      <td>Computer</td>\n",
       "    </tr>\n",
       "    <tr>\n",
       "      <th>1</th>\n",
       "      <td>2500</td>\n",
       "      <td>2500</td>\n",
       "      <td>2500.0</td>\n",
       "      <td>C</td>\n",
       "      <td>C4</td>\n",
       "      <td>Borrower added on 12/22/11 &gt; I plan to use t...</td>\n",
       "      <td>car</td>\n",
       "      <td>bike</td>\n",
       "    </tr>\n",
       "    <tr>\n",
       "      <th>2</th>\n",
       "      <td>2400</td>\n",
       "      <td>2400</td>\n",
       "      <td>2400.0</td>\n",
       "      <td>C</td>\n",
       "      <td>C5</td>\n",
       "      <td>NaN</td>\n",
       "      <td>small_business</td>\n",
       "      <td>real estate business</td>\n",
       "    </tr>\n",
       "    <tr>\n",
       "      <th>3</th>\n",
       "      <td>10000</td>\n",
       "      <td>10000</td>\n",
       "      <td>10000.0</td>\n",
       "      <td>C</td>\n",
       "      <td>C1</td>\n",
       "      <td>Borrower added on 12/21/11 &gt; to pay for prop...</td>\n",
       "      <td>other</td>\n",
       "      <td>personel</td>\n",
       "    </tr>\n",
       "    <tr>\n",
       "      <th>5</th>\n",
       "      <td>5000</td>\n",
       "      <td>5000</td>\n",
       "      <td>5000.0</td>\n",
       "      <td>A</td>\n",
       "      <td>A4</td>\n",
       "      <td>NaN</td>\n",
       "      <td>wedding</td>\n",
       "      <td>My wedding loan I promise to pay back</td>\n",
       "    </tr>\n",
       "    <tr>\n",
       "      <th>...</th>\n",
       "      <td>...</td>\n",
       "      <td>...</td>\n",
       "      <td>...</td>\n",
       "      <td>...</td>\n",
       "      <td>...</td>\n",
       "      <td>...</td>\n",
       "      <td>...</td>\n",
       "      <td>...</td>\n",
       "    </tr>\n",
       "    <tr>\n",
       "      <th>466276</th>\n",
       "      <td>8525</td>\n",
       "      <td>8525</td>\n",
       "      <td>8525.0</td>\n",
       "      <td>D</td>\n",
       "      <td>D3</td>\n",
       "      <td>NaN</td>\n",
       "      <td>medical</td>\n",
       "      <td>Medical expenses</td>\n",
       "    </tr>\n",
       "    <tr>\n",
       "      <th>466277</th>\n",
       "      <td>18000</td>\n",
       "      <td>18000</td>\n",
       "      <td>17975.0</td>\n",
       "      <td>A</td>\n",
       "      <td>A4</td>\n",
       "      <td>Borrower added on 12/09/13 &gt; consolidate all...</td>\n",
       "      <td>debt_consolidation</td>\n",
       "      <td>my loan</td>\n",
       "    </tr>\n",
       "    <tr>\n",
       "      <th>466278</th>\n",
       "      <td>10000</td>\n",
       "      <td>10000</td>\n",
       "      <td>10000.0</td>\n",
       "      <td>D</td>\n",
       "      <td>D3</td>\n",
       "      <td>NaN</td>\n",
       "      <td>vacation</td>\n",
       "      <td>Vacation</td>\n",
       "    </tr>\n",
       "    <tr>\n",
       "      <th>466281</th>\n",
       "      <td>22000</td>\n",
       "      <td>22000</td>\n",
       "      <td>22000.0</td>\n",
       "      <td>D</td>\n",
       "      <td>D5</td>\n",
       "      <td>NaN</td>\n",
       "      <td>debt_consolidation</td>\n",
       "      <td>Debt consolidation</td>\n",
       "    </tr>\n",
       "    <tr>\n",
       "      <th>466283</th>\n",
       "      <td>2000</td>\n",
       "      <td>2000</td>\n",
       "      <td>2000.0</td>\n",
       "      <td>A</td>\n",
       "      <td>A4</td>\n",
       "      <td>NaN</td>\n",
       "      <td>credit_card</td>\n",
       "      <td>Credit card refinancing</td>\n",
       "    </tr>\n",
       "  </tbody>\n",
       "</table>\n",
       "<p>238913 rows × 8 columns</p>\n",
       "</div>"
      ],
      "text/plain": [
       "        loan_amnt  funded_amnt  funded_amnt_inv grade sub_grade  \\\n",
       "0            5000         5000           4975.0     B        B2   \n",
       "1            2500         2500           2500.0     C        C4   \n",
       "2            2400         2400           2400.0     C        C5   \n",
       "3           10000        10000          10000.0     C        C1   \n",
       "5            5000         5000           5000.0     A        A4   \n",
       "...           ...          ...              ...   ...       ...   \n",
       "466276       8525         8525           8525.0     D        D3   \n",
       "466277      18000        18000          17975.0     A        A4   \n",
       "466278      10000        10000          10000.0     D        D3   \n",
       "466281      22000        22000          22000.0     D        D5   \n",
       "466283       2000         2000           2000.0     A        A4   \n",
       "\n",
       "                                                     desc             purpose  \\\n",
       "0         Borrower added on 12/22/11 > I need to upgra...         credit_card   \n",
       "1         Borrower added on 12/22/11 > I plan to use t...                 car   \n",
       "2                                                     NaN      small_business   \n",
       "3         Borrower added on 12/21/11 > to pay for prop...               other   \n",
       "5                                                     NaN             wedding   \n",
       "...                                                   ...                 ...   \n",
       "466276                                                NaN             medical   \n",
       "466277    Borrower added on 12/09/13 > consolidate all...  debt_consolidation   \n",
       "466278                                                NaN            vacation   \n",
       "466281                                                NaN  debt_consolidation   \n",
       "466283                                                NaN         credit_card   \n",
       "\n",
       "                                        title  \n",
       "0                                    Computer  \n",
       "1                                        bike  \n",
       "2                        real estate business  \n",
       "3                                    personel  \n",
       "5       My wedding loan I promise to pay back  \n",
       "...                                       ...  \n",
       "466276                       Medical expenses  \n",
       "466277                                my loan  \n",
       "466278                               Vacation  \n",
       "466281                     Debt consolidation  \n",
       "466283                Credit card refinancing  \n",
       "\n",
       "[238913 rows x 8 columns]"
      ]
     },
     "execution_count": 23,
     "metadata": {},
     "output_type": "execute_result"
    }
   ],
   "source": [
    "#selanjutnya melihat columns yang berisi data yang mirip\n",
    "new_data[['loan_amnt','funded_amnt','funded_amnt_inv','grade','sub_grade','desc','purpose','title']]"
   ]
  },
  {
   "cell_type": "markdown",
   "metadata": {},
   "source": [
    "Pada columns 'loan_amnt', 'funded_amnt', dan funded_amnt_inv' datanya terlihat mirip, sehingga kita melihat infomasi dari ketiga columns tersebut sebelum memilih salah satu columns. 'grade' dan 'sub_grade' juga terlihat mirip tetapi harus dibandingkan terlebih dahulu. lalu untuk 'desc','purpose','title' berisi infomasi tentang kegunaan pinjaman tetapi untuk columns 'desc' telihat banyak data kosong, dan 'title' untuk judul pinjaman dan 'purpose' untuk kegunaan pinjaman"
   ]
  },
  {
   "cell_type": "code",
   "execution_count": 24,
   "metadata": {},
   "outputs": [
    {
     "data": {
      "text/html": [
       "<div>\n",
       "<style scoped>\n",
       "    .dataframe tbody tr th:only-of-type {\n",
       "        vertical-align: middle;\n",
       "    }\n",
       "\n",
       "    .dataframe tbody tr th {\n",
       "        vertical-align: top;\n",
       "    }\n",
       "\n",
       "    .dataframe thead th {\n",
       "        text-align: right;\n",
       "    }\n",
       "</style>\n",
       "<table border=\"1\" class=\"dataframe\">\n",
       "  <thead>\n",
       "    <tr style=\"text-align: right;\">\n",
       "      <th></th>\n",
       "      <th>loan_amnt</th>\n",
       "      <th>funded_amnt</th>\n",
       "      <th>funded_amnt_inv</th>\n",
       "    </tr>\n",
       "  </thead>\n",
       "  <tbody>\n",
       "    <tr>\n",
       "      <th>count</th>\n",
       "      <td>238913.000000</td>\n",
       "      <td>238913.000000</td>\n",
       "      <td>238913.000000</td>\n",
       "    </tr>\n",
       "    <tr>\n",
       "      <th>mean</th>\n",
       "      <td>13486.214647</td>\n",
       "      <td>13440.797173</td>\n",
       "      <td>13312.662461</td>\n",
       "    </tr>\n",
       "    <tr>\n",
       "      <th>std</th>\n",
       "      <td>8066.725464</td>\n",
       "      <td>8042.190169</td>\n",
       "      <td>8080.099456</td>\n",
       "    </tr>\n",
       "    <tr>\n",
       "      <th>min</th>\n",
       "      <td>500.000000</td>\n",
       "      <td>500.000000</td>\n",
       "      <td>0.000000</td>\n",
       "    </tr>\n",
       "    <tr>\n",
       "      <th>25%</th>\n",
       "      <td>7200.000000</td>\n",
       "      <td>7200.000000</td>\n",
       "      <td>7125.000000</td>\n",
       "    </tr>\n",
       "    <tr>\n",
       "      <th>50%</th>\n",
       "      <td>12000.000000</td>\n",
       "      <td>12000.000000</td>\n",
       "      <td>11914.311470</td>\n",
       "    </tr>\n",
       "    <tr>\n",
       "      <th>75%</th>\n",
       "      <td>18000.000000</td>\n",
       "      <td>18000.000000</td>\n",
       "      <td>18000.000000</td>\n",
       "    </tr>\n",
       "    <tr>\n",
       "      <th>max</th>\n",
       "      <td>35000.000000</td>\n",
       "      <td>35000.000000</td>\n",
       "      <td>35000.000000</td>\n",
       "    </tr>\n",
       "  </tbody>\n",
       "</table>\n",
       "</div>"
      ],
      "text/plain": [
       "           loan_amnt    funded_amnt  funded_amnt_inv\n",
       "count  238913.000000  238913.000000    238913.000000\n",
       "mean    13486.214647   13440.797173     13312.662461\n",
       "std      8066.725464    8042.190169      8080.099456\n",
       "min       500.000000     500.000000         0.000000\n",
       "25%      7200.000000    7200.000000      7125.000000\n",
       "50%     12000.000000   12000.000000     11914.311470\n",
       "75%     18000.000000   18000.000000     18000.000000\n",
       "max     35000.000000   35000.000000     35000.000000"
      ]
     },
     "execution_count": 24,
     "metadata": {},
     "output_type": "execute_result"
    }
   ],
   "source": [
    "#melihat infomasi statistik dari ketiga columns yang mirip\n",
    "new_data[['loan_amnt','funded_amnt','funded_amnt_inv']].describe()"
   ]
  },
  {
   "cell_type": "markdown",
   "metadata": {},
   "source": [
    "Dari tabel diatas, diperlihatkan ketiga columns 'loan_amnt', 'funded_amnt', dan funded_amnt_inv'mempunyai statsika yang mirip sehingga kita dapat membuang dua columns yang tidak diperlukan untuk data final. Oleh karena itu kita akan mengambil 'loan_amnt' sebagai data yang complete dibandingkan 'funded_amnt_inv' dan lebih tinggi dibandingkan 'funded_amnt'. Lalu kita akan membuang dua columns lainnya yang tidak diperlukan dalam prediksi seperti 'id', 'member_id', 'url', dan 'desc' dimana banyak data kosong dalamnya."
   ]
  },
  {
   "cell_type": "code",
   "execution_count": 25,
   "metadata": {},
   "outputs": [],
   "source": [
    "#membuang data\n",
    "dropcol2 = ['funded_amnt', 'funded_amnt_inv', 'id', 'member_id', 'url', 'desc']\n",
    "dropped_data = new_data[dropcol2]\n",
    "\n",
    "new_data.drop(columns=dropcol2, axis=1, inplace=True)"
   ]
  },
  {
   "cell_type": "code",
   "execution_count": 26,
   "metadata": {},
   "outputs": [
    {
     "name": "stdout",
     "output_type": "stream",
     "text": [
      "<class 'pandas.core.frame.DataFrame'>\n",
      "Int64Index: 238913 entries, 0 to 466283\n",
      "Data columns (total 37 columns):\n",
      " #   Column                       Non-Null Count   Dtype  \n",
      "---  ------                       --------------   -----  \n",
      " 0   loan_amnt                    238913 non-null  int64  \n",
      " 1   term                         238913 non-null  object \n",
      " 2   int_rate                     238913 non-null  float64\n",
      " 3   installment                  238913 non-null  float64\n",
      " 4   grade                        238913 non-null  object \n",
      " 5   sub_grade                    238913 non-null  object \n",
      " 6   emp_title                    225435 non-null  object \n",
      " 7   emp_length                   229688 non-null  object \n",
      " 8   home_ownership               238913 non-null  object \n",
      " 9   annual_inc                   238909 non-null  float64\n",
      " 10  verification_status          238913 non-null  object \n",
      " 11  purpose                      238913 non-null  object \n",
      " 12  title                        238898 non-null  object \n",
      " 13  zip_code                     238913 non-null  object \n",
      " 14  addr_state                   238913 non-null  object \n",
      " 15  dti                          238913 non-null  float64\n",
      " 16  delinq_2yrs                  238884 non-null  float64\n",
      " 17  earliest_cr_line             238884 non-null  object \n",
      " 18  inq_last_6mths               238884 non-null  float64\n",
      " 19  mths_since_last_delinq       105385 non-null  float64\n",
      " 20  mths_since_last_record       28949 non-null   float64\n",
      " 21  open_acc                     238884 non-null  float64\n",
      " 22  pub_rec                      238884 non-null  float64\n",
      " 23  revol_bal                    238913 non-null  int64  \n",
      " 24  revol_util                   238681 non-null  float64\n",
      " 25  total_acc                    238884 non-null  float64\n",
      " 26  initial_list_status          238913 non-null  object \n",
      " 27  last_credit_pull_d           238890 non-null  object \n",
      " 28  collections_12_mths_ex_med   238768 non-null  float64\n",
      " 29  mths_since_last_major_derog  42544 non-null   float64\n",
      " 30  policy_code                  238913 non-null  int64  \n",
      " 31  application_type             238913 non-null  object \n",
      " 32  acc_now_delinq               238884 non-null  float64\n",
      " 33  tot_coll_amt                 172290 non-null  float64\n",
      " 34  tot_cur_bal                  172290 non-null  float64\n",
      " 35  total_rev_hi_lim             172290 non-null  float64\n",
      " 36  loan_ending                  238913 non-null  object \n",
      "dtypes: float64(18), int64(3), object(16)\n",
      "memory usage: 69.3+ MB\n"
     ]
    }
   ],
   "source": [
    "#melihat kembali isi columns\n",
    "new_data.info()"
   ]
  },
  {
   "cell_type": "markdown",
   "metadata": {},
   "source": [
    "# Mengeksplor isi Data"
   ]
  },
  {
   "cell_type": "markdown",
   "metadata": {},
   "source": [
    "1. Data dengan variabel null"
   ]
  },
  {
   "cell_type": "code",
   "execution_count": 27,
   "metadata": {},
   "outputs": [
    {
     "data": {
      "text/html": [
       "<div>\n",
       "<style scoped>\n",
       "    .dataframe tbody tr th:only-of-type {\n",
       "        vertical-align: middle;\n",
       "    }\n",
       "\n",
       "    .dataframe tbody tr th {\n",
       "        vertical-align: top;\n",
       "    }\n",
       "\n",
       "    .dataframe thead th {\n",
       "        text-align: right;\n",
       "    }\n",
       "</style>\n",
       "<table border=\"1\" class=\"dataframe\">\n",
       "  <thead>\n",
       "    <tr style=\"text-align: right;\">\n",
       "      <th></th>\n",
       "      <th>loan_amnt</th>\n",
       "      <th>term</th>\n",
       "      <th>int_rate</th>\n",
       "      <th>installment</th>\n",
       "      <th>grade</th>\n",
       "      <th>sub_grade</th>\n",
       "      <th>emp_title</th>\n",
       "      <th>emp_length</th>\n",
       "      <th>home_ownership</th>\n",
       "      <th>annual_inc</th>\n",
       "      <th>...</th>\n",
       "      <th>last_credit_pull_d</th>\n",
       "      <th>collections_12_mths_ex_med</th>\n",
       "      <th>mths_since_last_major_derog</th>\n",
       "      <th>policy_code</th>\n",
       "      <th>application_type</th>\n",
       "      <th>acc_now_delinq</th>\n",
       "      <th>tot_coll_amt</th>\n",
       "      <th>tot_cur_bal</th>\n",
       "      <th>total_rev_hi_lim</th>\n",
       "      <th>loan_ending</th>\n",
       "    </tr>\n",
       "  </thead>\n",
       "  <tbody>\n",
       "    <tr>\n",
       "      <th>0</th>\n",
       "      <td>5000</td>\n",
       "      <td>36 months</td>\n",
       "      <td>10.65</td>\n",
       "      <td>162.87</td>\n",
       "      <td>B</td>\n",
       "      <td>B2</td>\n",
       "      <td>NaN</td>\n",
       "      <td>10+ years</td>\n",
       "      <td>RENT</td>\n",
       "      <td>24000.0</td>\n",
       "      <td>...</td>\n",
       "      <td>Jan-16</td>\n",
       "      <td>0.0</td>\n",
       "      <td>NaN</td>\n",
       "      <td>1</td>\n",
       "      <td>INDIVIDUAL</td>\n",
       "      <td>0.0</td>\n",
       "      <td>NaN</td>\n",
       "      <td>NaN</td>\n",
       "      <td>NaN</td>\n",
       "      <td>good</td>\n",
       "    </tr>\n",
       "    <tr>\n",
       "      <th>1</th>\n",
       "      <td>2500</td>\n",
       "      <td>60 months</td>\n",
       "      <td>15.27</td>\n",
       "      <td>59.83</td>\n",
       "      <td>C</td>\n",
       "      <td>C4</td>\n",
       "      <td>Ryder</td>\n",
       "      <td>&lt; 1 year</td>\n",
       "      <td>RENT</td>\n",
       "      <td>30000.0</td>\n",
       "      <td>...</td>\n",
       "      <td>Sep-13</td>\n",
       "      <td>0.0</td>\n",
       "      <td>NaN</td>\n",
       "      <td>1</td>\n",
       "      <td>INDIVIDUAL</td>\n",
       "      <td>0.0</td>\n",
       "      <td>NaN</td>\n",
       "      <td>NaN</td>\n",
       "      <td>NaN</td>\n",
       "      <td>risk</td>\n",
       "    </tr>\n",
       "    <tr>\n",
       "      <th>2</th>\n",
       "      <td>2400</td>\n",
       "      <td>36 months</td>\n",
       "      <td>15.96</td>\n",
       "      <td>84.33</td>\n",
       "      <td>C</td>\n",
       "      <td>C5</td>\n",
       "      <td>NaN</td>\n",
       "      <td>10+ years</td>\n",
       "      <td>RENT</td>\n",
       "      <td>12252.0</td>\n",
       "      <td>...</td>\n",
       "      <td>Jan-16</td>\n",
       "      <td>0.0</td>\n",
       "      <td>NaN</td>\n",
       "      <td>1</td>\n",
       "      <td>INDIVIDUAL</td>\n",
       "      <td>0.0</td>\n",
       "      <td>NaN</td>\n",
       "      <td>NaN</td>\n",
       "      <td>NaN</td>\n",
       "      <td>good</td>\n",
       "    </tr>\n",
       "    <tr>\n",
       "      <th>3</th>\n",
       "      <td>10000</td>\n",
       "      <td>36 months</td>\n",
       "      <td>13.49</td>\n",
       "      <td>339.31</td>\n",
       "      <td>C</td>\n",
       "      <td>C1</td>\n",
       "      <td>AIR RESOURCES BOARD</td>\n",
       "      <td>10+ years</td>\n",
       "      <td>RENT</td>\n",
       "      <td>49200.0</td>\n",
       "      <td>...</td>\n",
       "      <td>Jan-15</td>\n",
       "      <td>0.0</td>\n",
       "      <td>NaN</td>\n",
       "      <td>1</td>\n",
       "      <td>INDIVIDUAL</td>\n",
       "      <td>0.0</td>\n",
       "      <td>NaN</td>\n",
       "      <td>NaN</td>\n",
       "      <td>NaN</td>\n",
       "      <td>good</td>\n",
       "    </tr>\n",
       "    <tr>\n",
       "      <th>5</th>\n",
       "      <td>5000</td>\n",
       "      <td>36 months</td>\n",
       "      <td>7.90</td>\n",
       "      <td>156.46</td>\n",
       "      <td>A</td>\n",
       "      <td>A4</td>\n",
       "      <td>Veolia Transportaton</td>\n",
       "      <td>3 years</td>\n",
       "      <td>RENT</td>\n",
       "      <td>36000.0</td>\n",
       "      <td>...</td>\n",
       "      <td>Sep-15</td>\n",
       "      <td>0.0</td>\n",
       "      <td>NaN</td>\n",
       "      <td>1</td>\n",
       "      <td>INDIVIDUAL</td>\n",
       "      <td>0.0</td>\n",
       "      <td>NaN</td>\n",
       "      <td>NaN</td>\n",
       "      <td>NaN</td>\n",
       "      <td>good</td>\n",
       "    </tr>\n",
       "  </tbody>\n",
       "</table>\n",
       "<p>5 rows × 37 columns</p>\n",
       "</div>"
      ],
      "text/plain": [
       "   loan_amnt        term  int_rate  installment grade sub_grade  \\\n",
       "0       5000   36 months     10.65       162.87     B        B2   \n",
       "1       2500   60 months     15.27        59.83     C        C4   \n",
       "2       2400   36 months     15.96        84.33     C        C5   \n",
       "3      10000   36 months     13.49       339.31     C        C1   \n",
       "5       5000   36 months      7.90       156.46     A        A4   \n",
       "\n",
       "              emp_title emp_length home_ownership  annual_inc  ...  \\\n",
       "0                   NaN  10+ years           RENT     24000.0  ...   \n",
       "1                 Ryder   < 1 year           RENT     30000.0  ...   \n",
       "2                   NaN  10+ years           RENT     12252.0  ...   \n",
       "3   AIR RESOURCES BOARD  10+ years           RENT     49200.0  ...   \n",
       "5  Veolia Transportaton    3 years           RENT     36000.0  ...   \n",
       "\n",
       "  last_credit_pull_d collections_12_mths_ex_med mths_since_last_major_derog  \\\n",
       "0             Jan-16                        0.0                         NaN   \n",
       "1             Sep-13                        0.0                         NaN   \n",
       "2             Jan-16                        0.0                         NaN   \n",
       "3             Jan-15                        0.0                         NaN   \n",
       "5             Sep-15                        0.0                         NaN   \n",
       "\n",
       "  policy_code application_type  acc_now_delinq  tot_coll_amt tot_cur_bal  \\\n",
       "0           1       INDIVIDUAL             0.0           NaN         NaN   \n",
       "1           1       INDIVIDUAL             0.0           NaN         NaN   \n",
       "2           1       INDIVIDUAL             0.0           NaN         NaN   \n",
       "3           1       INDIVIDUAL             0.0           NaN         NaN   \n",
       "5           1       INDIVIDUAL             0.0           NaN         NaN   \n",
       "\n",
       "   total_rev_hi_lim  loan_ending  \n",
       "0               NaN         good  \n",
       "1               NaN         risk  \n",
       "2               NaN         good  \n",
       "3               NaN         good  \n",
       "5               NaN         good  \n",
       "\n",
       "[5 rows x 37 columns]"
      ]
     },
     "execution_count": 27,
     "metadata": {},
     "output_type": "execute_result"
    }
   ],
   "source": [
    "new_data.head()"
   ]
  },
  {
   "cell_type": "markdown",
   "metadata": {},
   "source": [
    "Ada beberpa data yang mempunyai banyak nilai null seperti 'mths_since_last_delinq', 'mths_since_last_record', 'mths_since_last_major_derog', 'tot_coll_amt', 'tot_cur_bal', 'total_rev_hi_lim'.\n",
    "\n",
    "Infomasi 'mths_since_last_delinq', 'mths_since_last_record', 'mths_since_last_major_derog' sepertinya berhubungan dengan sejarah pinjaman dari peminjam serta 'tot_coll_amt', 'tot_cur_bal', 'total_rev_hi_lim' adalah total jumlah pengumpulan yang pernah ada dan total saldo saat ini dari semua akun pinjaman.\n",
    "\n",
    "Selanjutnya mari kita lihat informasi mengenai total jumlah tersebut."
   ]
  },
  {
   "cell_type": "code",
   "execution_count": 31,
   "metadata": {},
   "outputs": [
    {
     "name": "stdout",
     "output_type": "stream",
     "text": [
      "             tot_coll_amt    tot_cur_bal  total_rev_hi_lim\n",
      "loan_ending                                               \n",
      "good           219.721618  143006.253262      29996.098672\n",
      "risk           141.355723  116108.175291      26256.733754\n",
      "             tot_coll_amt  tot_cur_bal  total_rev_hi_lim\n",
      "loan_ending                                             \n",
      "good            9152545.0    8000078.0         2013133.0\n",
      "risk              95806.0    3437283.0         1998700.0\n"
     ]
    }
   ],
   "source": [
    "colst1 = ['tot_coll_amt', 'tot_cur_bal', 'total_rev_hi_lim']\n",
    "\n",
    "# membuat tabel dari mean\n",
    "print(pd.pivot_table(new_data, index = 'loan_ending', values = colst1))\n",
    "\n",
    "# membuat tabel dari max value\n",
    "print(pd.pivot_table(new_data, index = 'loan_ending', values = colst1, aggfunc = np.max))"
   ]
  },
  {
   "cell_type": "code",
   "execution_count": 32,
   "metadata": {},
   "outputs": [
    {
     "data": {
      "text/html": [
       "<div>\n",
       "<style scoped>\n",
       "    .dataframe tbody tr th:only-of-type {\n",
       "        vertical-align: middle;\n",
       "    }\n",
       "\n",
       "    .dataframe tbody tr th {\n",
       "        vertical-align: top;\n",
       "    }\n",
       "\n",
       "    .dataframe thead th {\n",
       "        text-align: right;\n",
       "    }\n",
       "</style>\n",
       "<table border=\"1\" class=\"dataframe\">\n",
       "  <thead>\n",
       "    <tr style=\"text-align: right;\">\n",
       "      <th></th>\n",
       "      <th>tot_coll_amt</th>\n",
       "      <th>tot_cur_bal</th>\n",
       "      <th>total_rev_hi_lim</th>\n",
       "    </tr>\n",
       "  </thead>\n",
       "  <tbody>\n",
       "    <tr>\n",
       "      <th>count</th>\n",
       "      <td>1.722900e+05</td>\n",
       "      <td>1.722900e+05</td>\n",
       "      <td>1.722900e+05</td>\n",
       "    </tr>\n",
       "    <tr>\n",
       "      <th>mean</th>\n",
       "      <td>2.009637e+02</td>\n",
       "      <td>1.365678e+05</td>\n",
       "      <td>2.910103e+04</td>\n",
       "    </tr>\n",
       "    <tr>\n",
       "      <th>std</th>\n",
       "      <td>2.211009e+04</td>\n",
       "      <td>1.501802e+05</td>\n",
       "      <td>2.854495e+04</td>\n",
       "    </tr>\n",
       "    <tr>\n",
       "      <th>min</th>\n",
       "      <td>0.000000e+00</td>\n",
       "      <td>0.000000e+00</td>\n",
       "      <td>0.000000e+00</td>\n",
       "    </tr>\n",
       "    <tr>\n",
       "      <th>25%</th>\n",
       "      <td>0.000000e+00</td>\n",
       "      <td>2.795400e+04</td>\n",
       "      <td>1.320000e+04</td>\n",
       "    </tr>\n",
       "    <tr>\n",
       "      <th>50%</th>\n",
       "      <td>0.000000e+00</td>\n",
       "      <td>7.923900e+04</td>\n",
       "      <td>2.200000e+04</td>\n",
       "    </tr>\n",
       "    <tr>\n",
       "      <th>75%</th>\n",
       "      <td>0.000000e+00</td>\n",
       "      <td>2.064025e+05</td>\n",
       "      <td>3.620000e+04</td>\n",
       "    </tr>\n",
       "    <tr>\n",
       "      <th>max</th>\n",
       "      <td>9.152545e+06</td>\n",
       "      <td>8.000078e+06</td>\n",
       "      <td>2.013133e+06</td>\n",
       "    </tr>\n",
       "  </tbody>\n",
       "</table>\n",
       "</div>"
      ],
      "text/plain": [
       "       tot_coll_amt   tot_cur_bal  total_rev_hi_lim\n",
       "count  1.722900e+05  1.722900e+05      1.722900e+05\n",
       "mean   2.009637e+02  1.365678e+05      2.910103e+04\n",
       "std    2.211009e+04  1.501802e+05      2.854495e+04\n",
       "min    0.000000e+00  0.000000e+00      0.000000e+00\n",
       "25%    0.000000e+00  2.795400e+04      1.320000e+04\n",
       "50%    0.000000e+00  7.923900e+04      2.200000e+04\n",
       "75%    0.000000e+00  2.064025e+05      3.620000e+04\n",
       "max    9.152545e+06  8.000078e+06      2.013133e+06"
      ]
     },
     "execution_count": 32,
     "metadata": {},
     "output_type": "execute_result"
    }
   ],
   "source": [
    "new_data[colst1].describe()"
   ]
  },
  {
   "cell_type": "markdown",
   "metadata": {},
   "source": [
    "Dari tabel diatas terlihat 'tot_coll_amnt' 75% daro data bernilai 0, sehingga membuatnya menjadi data yang tidak berguna, lalu deskripsi dari 'tot_coll_amnt' dan 'tot_cur_bal' yaitu Total jumlah pengumpulan yang pernah ada dan Total Saldo Saat Ini dari Semua Akun merasa tidak diperlukan dalam prediksi. Sehingga kita tidak akan menggunakan columns tersebut."
   ]
  },
  {
   "cell_type": "code",
   "execution_count": 34,
   "metadata": {},
   "outputs": [],
   "source": [
    "#membuang columns\n",
    "dropcol3 = ['tot_coll_amt', 'tot_cur_bal', 'total_rev_hi_lim']\n",
    "\n",
    "new_data.drop(dropcol3, inplace=True, axis = 1)"
   ]
  },
  {
   "cell_type": "code",
   "execution_count": 35,
   "metadata": {},
   "outputs": [
    {
     "name": "stdout",
     "output_type": "stream",
     "text": [
      "<class 'pandas.core.frame.DataFrame'>\n",
      "Int64Index: 238913 entries, 0 to 466283\n",
      "Data columns (total 34 columns):\n",
      " #   Column                       Non-Null Count   Dtype  \n",
      "---  ------                       --------------   -----  \n",
      " 0   loan_amnt                    238913 non-null  int64  \n",
      " 1   term                         238913 non-null  object \n",
      " 2   int_rate                     238913 non-null  float64\n",
      " 3   installment                  238913 non-null  float64\n",
      " 4   grade                        238913 non-null  object \n",
      " 5   sub_grade                    238913 non-null  object \n",
      " 6   emp_title                    225435 non-null  object \n",
      " 7   emp_length                   229688 non-null  object \n",
      " 8   home_ownership               238913 non-null  object \n",
      " 9   annual_inc                   238909 non-null  float64\n",
      " 10  verification_status          238913 non-null  object \n",
      " 11  purpose                      238913 non-null  object \n",
      " 12  title                        238898 non-null  object \n",
      " 13  zip_code                     238913 non-null  object \n",
      " 14  addr_state                   238913 non-null  object \n",
      " 15  dti                          238913 non-null  float64\n",
      " 16  delinq_2yrs                  238884 non-null  float64\n",
      " 17  earliest_cr_line             238884 non-null  object \n",
      " 18  inq_last_6mths               238884 non-null  float64\n",
      " 19  mths_since_last_delinq       105385 non-null  float64\n",
      " 20  mths_since_last_record       28949 non-null   float64\n",
      " 21  open_acc                     238884 non-null  float64\n",
      " 22  pub_rec                      238884 non-null  float64\n",
      " 23  revol_bal                    238913 non-null  int64  \n",
      " 24  revol_util                   238681 non-null  float64\n",
      " 25  total_acc                    238884 non-null  float64\n",
      " 26  initial_list_status          238913 non-null  object \n",
      " 27  last_credit_pull_d           238890 non-null  object \n",
      " 28  collections_12_mths_ex_med   238768 non-null  float64\n",
      " 29  mths_since_last_major_derog  42544 non-null   float64\n",
      " 30  policy_code                  238913 non-null  int64  \n",
      " 31  application_type             238913 non-null  object \n",
      " 32  acc_now_delinq               238884 non-null  float64\n",
      " 33  loan_ending                  238913 non-null  object \n",
      "dtypes: float64(15), int64(3), object(16)\n",
      "memory usage: 63.8+ MB\n"
     ]
    }
   ],
   "source": [
    "#mengecek kembali columns\n",
    "new_data.info()"
   ]
  },
  {
   "cell_type": "markdown",
   "metadata": {},
   "source": [
    "Selanjutnya kita akan beralih ke data mengenai sejarah pinjaman seperti 'mths_since_last_delinq', 'mths_since_last_record', 'mths_since_last_major_derog' dimana penjelasan tiap columns tersebut adalah Jumlah bulan sejak kenakalan terakhir peminjam, Jumlah bulan sejak catatan publik terakhir, Bulan sejak peringkat 90 hari atau lebih buruk terakhir. Mari kita lihat isi datanya tersebut."
   ]
  },
  {
   "cell_type": "code",
   "execution_count": 36,
   "metadata": {},
   "outputs": [
    {
     "data": {
      "text/html": [
       "<div>\n",
       "<style scoped>\n",
       "    .dataframe tbody tr th:only-of-type {\n",
       "        vertical-align: middle;\n",
       "    }\n",
       "\n",
       "    .dataframe tbody tr th {\n",
       "        vertical-align: top;\n",
       "    }\n",
       "\n",
       "    .dataframe thead th {\n",
       "        text-align: right;\n",
       "    }\n",
       "</style>\n",
       "<table border=\"1\" class=\"dataframe\">\n",
       "  <thead>\n",
       "    <tr style=\"text-align: right;\">\n",
       "      <th></th>\n",
       "      <th>mths_since_last_delinq</th>\n",
       "      <th>mths_since_last_record</th>\n",
       "      <th>mths_since_last_major_derog</th>\n",
       "    </tr>\n",
       "  </thead>\n",
       "  <tbody>\n",
       "    <tr>\n",
       "      <th>0</th>\n",
       "      <td>NaN</td>\n",
       "      <td>NaN</td>\n",
       "      <td>NaN</td>\n",
       "    </tr>\n",
       "    <tr>\n",
       "      <th>1</th>\n",
       "      <td>NaN</td>\n",
       "      <td>NaN</td>\n",
       "      <td>NaN</td>\n",
       "    </tr>\n",
       "    <tr>\n",
       "      <th>2</th>\n",
       "      <td>NaN</td>\n",
       "      <td>NaN</td>\n",
       "      <td>NaN</td>\n",
       "    </tr>\n",
       "    <tr>\n",
       "      <th>3</th>\n",
       "      <td>35.0</td>\n",
       "      <td>NaN</td>\n",
       "      <td>NaN</td>\n",
       "    </tr>\n",
       "    <tr>\n",
       "      <th>5</th>\n",
       "      <td>NaN</td>\n",
       "      <td>NaN</td>\n",
       "      <td>NaN</td>\n",
       "    </tr>\n",
       "    <tr>\n",
       "      <th>...</th>\n",
       "      <td>...</td>\n",
       "      <td>...</td>\n",
       "      <td>...</td>\n",
       "    </tr>\n",
       "    <tr>\n",
       "      <th>466276</th>\n",
       "      <td>3.0</td>\n",
       "      <td>NaN</td>\n",
       "      <td>4.0</td>\n",
       "    </tr>\n",
       "    <tr>\n",
       "      <th>466277</th>\n",
       "      <td>14.0</td>\n",
       "      <td>NaN</td>\n",
       "      <td>14.0</td>\n",
       "    </tr>\n",
       "    <tr>\n",
       "      <th>466278</th>\n",
       "      <td>29.0</td>\n",
       "      <td>NaN</td>\n",
       "      <td>32.0</td>\n",
       "    </tr>\n",
       "    <tr>\n",
       "      <th>466281</th>\n",
       "      <td>NaN</td>\n",
       "      <td>116.0</td>\n",
       "      <td>NaN</td>\n",
       "    </tr>\n",
       "    <tr>\n",
       "      <th>466283</th>\n",
       "      <td>13.0</td>\n",
       "      <td>NaN</td>\n",
       "      <td>NaN</td>\n",
       "    </tr>\n",
       "  </tbody>\n",
       "</table>\n",
       "<p>238913 rows × 3 columns</p>\n",
       "</div>"
      ],
      "text/plain": [
       "        mths_since_last_delinq  mths_since_last_record  \\\n",
       "0                          NaN                     NaN   \n",
       "1                          NaN                     NaN   \n",
       "2                          NaN                     NaN   \n",
       "3                         35.0                     NaN   \n",
       "5                          NaN                     NaN   \n",
       "...                        ...                     ...   \n",
       "466276                     3.0                     NaN   \n",
       "466277                    14.0                     NaN   \n",
       "466278                    29.0                     NaN   \n",
       "466281                     NaN                   116.0   \n",
       "466283                    13.0                     NaN   \n",
       "\n",
       "        mths_since_last_major_derog  \n",
       "0                               NaN  \n",
       "1                               NaN  \n",
       "2                               NaN  \n",
       "3                               NaN  \n",
       "5                               NaN  \n",
       "...                             ...  \n",
       "466276                          4.0  \n",
       "466277                         14.0  \n",
       "466278                         32.0  \n",
       "466281                          NaN  \n",
       "466283                          NaN  \n",
       "\n",
       "[238913 rows x 3 columns]"
      ]
     },
     "execution_count": 36,
     "metadata": {},
     "output_type": "execute_result"
    }
   ],
   "source": [
    "hst = ['mths_since_last_delinq', 'mths_since_last_record', 'mths_since_last_major_derog']\n",
    "\n",
    "new_data[hst]"
   ]
  },
  {
   "cell_type": "markdown",
   "metadata": {},
   "source": [
    "Dari isi tabel diatas banyak terdapat data null, kita tahu sebelumnya bahwa columns diatas memberikan infomasi mengenai kenakalan publik dari peminjam dalam bulan. Sehingga ketika peminjam tidak ada kenakalan selama data ini dibuat maka data tidak akan ada perubahan.\n",
    "\n",
    "Nilai dari data diatas bisa kita interpretasikan sebagai '0' adalah pinjaman yang melakukan tindakan buruk, semakin tinggi nilai maka pinjaman akan dinilai semakin baik sehingga nilai kosong NaN adalah infinit karena mereka tidak melakukan tindakan buruk. Untuk mempermudah penggunaan data di columns kita akan menyederhanakan ke pilihan yes or no seperti yes (1) berarti pernah melakukan tindakan buruk dan no (0) tidak pernah melakukan tindakan buruk. \n",
    "\n",
    "Karena 'mths_since_last_delinq' berhubungan dengan 'delinq_2yrs' dan 'acc_now_delinq', dan 'mths_since_last_record' berhubungan dengan 'pub_rec' maka kita tidak menggunakan dua columns karena infomasinya dapat digantikan dengan columns yang berhubungan dengan mereka. Lalu kita hanya akan menggunakan 'mths_since_last_major_derog' untuk menyimpulkan tindakan buruk ini ke columns baru 'major_derog'."
   ]
  },
  {
   "cell_type": "code",
   "execution_count": 37,
   "metadata": {},
   "outputs": [],
   "source": [
    "#membuat columns baru untuk tindakan buruk\n",
    "new_data['major_derog'] = np.where(new_data['mths_since_last_major_derog'].isna(), 0, 1)"
   ]
  },
  {
   "cell_type": "code",
   "execution_count": 38,
   "metadata": {},
   "outputs": [
    {
     "data": {
      "text/plain": [
       "0    196369\n",
       "1     42544\n",
       "Name: major_derog, dtype: int64"
      ]
     },
     "execution_count": 38,
     "metadata": {},
     "output_type": "execute_result"
    }
   ],
   "source": [
    "#melihat nilai dari columns baru\n",
    "new_data.major_derog.value_counts()"
   ]
  },
  {
   "cell_type": "code",
   "execution_count": 39,
   "metadata": {},
   "outputs": [],
   "source": [
    "#membuang columns yang tidak diperlukan\n",
    "dropcol4 = ['mths_since_last_delinq', 'mths_since_last_record', 'mths_since_last_major_derog']\n",
    "\n",
    "new_data.drop(columns=dropcol4, axis=1, inplace=True)"
   ]
  },
  {
   "cell_type": "code",
   "execution_count": 40,
   "metadata": {},
   "outputs": [
    {
     "name": "stdout",
     "output_type": "stream",
     "text": [
      "<class 'pandas.core.frame.DataFrame'>\n",
      "Int64Index: 238913 entries, 0 to 466283\n",
      "Data columns (total 32 columns):\n",
      " #   Column                      Non-Null Count   Dtype  \n",
      "---  ------                      --------------   -----  \n",
      " 0   loan_amnt                   238913 non-null  int64  \n",
      " 1   term                        238913 non-null  object \n",
      " 2   int_rate                    238913 non-null  float64\n",
      " 3   installment                 238913 non-null  float64\n",
      " 4   grade                       238913 non-null  object \n",
      " 5   sub_grade                   238913 non-null  object \n",
      " 6   emp_title                   225435 non-null  object \n",
      " 7   emp_length                  229688 non-null  object \n",
      " 8   home_ownership              238913 non-null  object \n",
      " 9   annual_inc                  238909 non-null  float64\n",
      " 10  verification_status         238913 non-null  object \n",
      " 11  purpose                     238913 non-null  object \n",
      " 12  title                       238898 non-null  object \n",
      " 13  zip_code                    238913 non-null  object \n",
      " 14  addr_state                  238913 non-null  object \n",
      " 15  dti                         238913 non-null  float64\n",
      " 16  delinq_2yrs                 238884 non-null  float64\n",
      " 17  earliest_cr_line            238884 non-null  object \n",
      " 18  inq_last_6mths              238884 non-null  float64\n",
      " 19  open_acc                    238884 non-null  float64\n",
      " 20  pub_rec                     238884 non-null  float64\n",
      " 21  revol_bal                   238913 non-null  int64  \n",
      " 22  revol_util                  238681 non-null  float64\n",
      " 23  total_acc                   238884 non-null  float64\n",
      " 24  initial_list_status         238913 non-null  object \n",
      " 25  last_credit_pull_d          238890 non-null  object \n",
      " 26  collections_12_mths_ex_med  238768 non-null  float64\n",
      " 27  policy_code                 238913 non-null  int64  \n",
      " 28  application_type            238913 non-null  object \n",
      " 29  acc_now_delinq              238884 non-null  float64\n",
      " 30  loan_ending                 238913 non-null  object \n",
      " 31  major_derog                 238913 non-null  int32  \n",
      "dtypes: float64(12), int32(1), int64(3), object(16)\n",
      "memory usage: 59.2+ MB\n"
     ]
    }
   ],
   "source": [
    "#melihat isi data sekarang\n",
    "new_data.info()"
   ]
  },
  {
   "cell_type": "markdown",
   "metadata": {},
   "source": [
    "2. Data dengan sedikit variabel"
   ]
  },
  {
   "cell_type": "markdown",
   "metadata": {},
   "source": [
    "Selanjutnya kita akan melihat isi columns dengan variabel yang sedikit, kita bisa mencoba menentukan dengan variabel dibawah 10"
   ]
  },
  {
   "cell_type": "code",
   "execution_count": 41,
   "metadata": {},
   "outputs": [
    {
     "data": {
      "text/plain": [
       "policy_code                   1\n",
       "application_type              1\n",
       "term                          2\n",
       "initial_list_status           2\n",
       "loan_ending                   2\n",
       "major_derog                   2\n",
       "verification_status           3\n",
       "home_ownership                6\n",
       "acc_now_delinq                6\n",
       "grade                         7\n",
       "collections_12_mths_ex_med    7\n",
       "dtype: int64"
      ]
     },
     "execution_count": 41,
     "metadata": {},
     "output_type": "execute_result"
    }
   ],
   "source": [
    "#memilah columns yang variabelnya dibawah 10\n",
    "new_data.nunique()[new_data.nunique() < 10].sort_values()"
   ]
  },
  {
   "cell_type": "markdown",
   "metadata": {},
   "source": [
    "Karena policy_code dan application_type hanya berisi satu value, sehingga tidak berguna pada prediksi model kita."
   ]
  },
  {
   "cell_type": "code",
   "execution_count": 42,
   "metadata": {},
   "outputs": [],
   "source": [
    "#membuang columns\n",
    "dropcol5 = ['policy_code','application_type']\n",
    "\n",
    "new_data.drop(dropcol5, inplace=True, axis = 1)"
   ]
  },
  {
   "cell_type": "code",
   "execution_count": 43,
   "metadata": {},
   "outputs": [
    {
     "name": "stdout",
     "output_type": "stream",
     "text": [
      "<class 'pandas.core.frame.DataFrame'>\n",
      "Int64Index: 238913 entries, 0 to 466283\n",
      "Data columns (total 30 columns):\n",
      " #   Column                      Non-Null Count   Dtype  \n",
      "---  ------                      --------------   -----  \n",
      " 0   loan_amnt                   238913 non-null  int64  \n",
      " 1   term                        238913 non-null  object \n",
      " 2   int_rate                    238913 non-null  float64\n",
      " 3   installment                 238913 non-null  float64\n",
      " 4   grade                       238913 non-null  object \n",
      " 5   sub_grade                   238913 non-null  object \n",
      " 6   emp_title                   225435 non-null  object \n",
      " 7   emp_length                  229688 non-null  object \n",
      " 8   home_ownership              238913 non-null  object \n",
      " 9   annual_inc                  238909 non-null  float64\n",
      " 10  verification_status         238913 non-null  object \n",
      " 11  purpose                     238913 non-null  object \n",
      " 12  title                       238898 non-null  object \n",
      " 13  zip_code                    238913 non-null  object \n",
      " 14  addr_state                  238913 non-null  object \n",
      " 15  dti                         238913 non-null  float64\n",
      " 16  delinq_2yrs                 238884 non-null  float64\n",
      " 17  earliest_cr_line            238884 non-null  object \n",
      " 18  inq_last_6mths              238884 non-null  float64\n",
      " 19  open_acc                    238884 non-null  float64\n",
      " 20  pub_rec                     238884 non-null  float64\n",
      " 21  revol_bal                   238913 non-null  int64  \n",
      " 22  revol_util                  238681 non-null  float64\n",
      " 23  total_acc                   238884 non-null  float64\n",
      " 24  initial_list_status         238913 non-null  object \n",
      " 25  last_credit_pull_d          238890 non-null  object \n",
      " 26  collections_12_mths_ex_med  238768 non-null  float64\n",
      " 27  acc_now_delinq              238884 non-null  float64\n",
      " 28  loan_ending                 238913 non-null  object \n",
      " 29  major_derog                 238913 non-null  int32  \n",
      "dtypes: float64(12), int32(1), int64(2), object(15)\n",
      "memory usage: 55.6+ MB\n"
     ]
    }
   ],
   "source": [
    "new_data.info()"
   ]
  },
  {
   "cell_type": "markdown",
   "metadata": {},
   "source": [
    "Untuk data dengan variabel >1 dan <10 akan kita gunakan karena dari deskripsi columnsnya penting dalam model prediksi."
   ]
  },
  {
   "cell_type": "markdown",
   "metadata": {},
   "source": [
    "3. Data numerical dan Data categorical"
   ]
  },
  {
   "cell_type": "markdown",
   "metadata": {},
   "source": [
    "Selanjutnya kita akan memelihat columns satu persatu apakah data tersebut benar numerical atau categorical dan memeriksa isi data dari columns-columns tersebut."
   ]
  },
  {
   "cell_type": "code",
   "execution_count": 45,
   "metadata": {},
   "outputs": [
    {
     "data": {
      "text/plain": [
       "Index(['loan_amnt', 'int_rate', 'installment', 'annual_inc', 'dti',\n",
       "       'delinq_2yrs', 'inq_last_6mths', 'open_acc', 'pub_rec', 'revol_bal',\n",
       "       'revol_util', 'total_acc', 'collections_12_mths_ex_med',\n",
       "       'acc_now_delinq', 'major_derog'],\n",
       "      dtype='object')"
      ]
     },
     "execution_count": 45,
     "metadata": {},
     "output_type": "execute_result"
    }
   ],
   "source": [
    "#numerical\n",
    "nm_data = new_data.select_dtypes(exclude= 'object')\n",
    "nm_data.columns"
   ]
  },
  {
   "cell_type": "markdown",
   "metadata": {},
   "source": [
    "Dari list columns diatas, benar isi dari data-data tesebut dalam numerical. Lalu kita periksa yang categorical"
   ]
  },
  {
   "cell_type": "code",
   "execution_count": 46,
   "metadata": {},
   "outputs": [
    {
     "data": {
      "text/plain": [
       "Index(['term', 'grade', 'sub_grade', 'emp_title', 'emp_length',\n",
       "       'home_ownership', 'verification_status', 'purpose', 'title', 'zip_code',\n",
       "       'addr_state', 'earliest_cr_line', 'initial_list_status',\n",
       "       'last_credit_pull_d', 'loan_ending'],\n",
       "      dtype='object')"
      ]
     },
     "execution_count": 46,
     "metadata": {},
     "output_type": "execute_result"
    }
   ],
   "source": [
    "#categorical\n",
    "cg_data = new_data.select_dtypes(include= 'object')\n",
    "cg_data.columns"
   ]
  },
  {
   "cell_type": "markdown",
   "metadata": {},
   "source": [
    "Dari list columns diatas, ada beberapa columns yang aneh seperti emp_length (employment length) seharusnya numerik karena columns tersebut mengenai Panjang pekerjaan dalam beberapa tahun. Nilai yang mungkin adalah antara 0 dan 10 di mana 0 berarti kurang dari satu tahun dan 10 berarti sepuluh tahun atau lebih dan 'earliest_cr_line' (earliest credit line), 'last_credit_pull_d' (last credit check) merupakan Bulan jalur kredit yang paling awal dilaporkan peminjam dibuka dan Bulan terbaru LC menarik kredit untuk pinjaman ini yang menandakan dalam waktu.\n",
    "\n",
    "Mari kita melihat ketiga columns aneh tersebut."
   ]
  },
  {
   "cell_type": "code",
   "execution_count": 47,
   "metadata": {},
   "outputs": [
    {
     "data": {
      "text/html": [
       "<div>\n",
       "<style scoped>\n",
       "    .dataframe tbody tr th:only-of-type {\n",
       "        vertical-align: middle;\n",
       "    }\n",
       "\n",
       "    .dataframe tbody tr th {\n",
       "        vertical-align: top;\n",
       "    }\n",
       "\n",
       "    .dataframe thead th {\n",
       "        text-align: right;\n",
       "    }\n",
       "</style>\n",
       "<table border=\"1\" class=\"dataframe\">\n",
       "  <thead>\n",
       "    <tr style=\"text-align: right;\">\n",
       "      <th></th>\n",
       "      <th>emp_length</th>\n",
       "      <th>earliest_cr_line</th>\n",
       "      <th>last_credit_pull_d</th>\n",
       "    </tr>\n",
       "  </thead>\n",
       "  <tbody>\n",
       "    <tr>\n",
       "      <th>0</th>\n",
       "      <td>10+ years</td>\n",
       "      <td>Jan-85</td>\n",
       "      <td>Jan-16</td>\n",
       "    </tr>\n",
       "    <tr>\n",
       "      <th>1</th>\n",
       "      <td>&lt; 1 year</td>\n",
       "      <td>Apr-99</td>\n",
       "      <td>Sep-13</td>\n",
       "    </tr>\n",
       "    <tr>\n",
       "      <th>2</th>\n",
       "      <td>10+ years</td>\n",
       "      <td>Nov-01</td>\n",
       "      <td>Jan-16</td>\n",
       "    </tr>\n",
       "    <tr>\n",
       "      <th>3</th>\n",
       "      <td>10+ years</td>\n",
       "      <td>Feb-96</td>\n",
       "      <td>Jan-15</td>\n",
       "    </tr>\n",
       "    <tr>\n",
       "      <th>5</th>\n",
       "      <td>3 years</td>\n",
       "      <td>Nov-04</td>\n",
       "      <td>Sep-15</td>\n",
       "    </tr>\n",
       "  </tbody>\n",
       "</table>\n",
       "</div>"
      ],
      "text/plain": [
       "  emp_length earliest_cr_line last_credit_pull_d\n",
       "0  10+ years           Jan-85             Jan-16\n",
       "1   < 1 year           Apr-99             Sep-13\n",
       "2  10+ years           Nov-01             Jan-16\n",
       "3  10+ years           Feb-96             Jan-15\n",
       "5    3 years           Nov-04             Sep-15"
      ]
     },
     "execution_count": 47,
     "metadata": {},
     "output_type": "execute_result"
    }
   ],
   "source": [
    "wr = ['emp_length', 'earliest_cr_line', 'last_credit_pull_d']\n",
    "\n",
    "cg_data[wr].head()"
   ]
  },
  {
   "cell_type": "markdown",
   "metadata": {},
   "source": [
    "Dari tabel diatas dapat diasumsikan\n",
    "\n",
    "1.'emp_length' menunjukkan tahun pegawai sehingga semakin lama sebagai pegawai maka risk pinjaman semakan berkurang\n",
    "2.'earliest_cr_line' menunjukkan trek credit pinjaman\n",
    "3.'last_credit_pull_d' menunjukkan semakin lama waktu credit semakin bagus, diatas 2 tahun menunjukkan risk pinjaman semakin berkurang.\n",
    "\n",
    "Selanjutnya kita akan melihat isi dari 'emp_length'"
   ]
  },
  {
   "cell_type": "code",
   "execution_count": 48,
   "metadata": {},
   "outputs": [
    {
     "data": {
      "text/plain": [
       "array(['10+ years', '< 1 year', '3 years', '9 years', '4 years',\n",
       "       '5 years', '1 year', '6 years', '2 years', '7 years', '8 years',\n",
       "       nan], dtype=object)"
      ]
     },
     "execution_count": 48,
     "metadata": {},
     "output_type": "execute_result"
    }
   ],
   "source": [
    "new_data['emp_length'].unique()"
   ]
  },
  {
   "cell_type": "markdown",
   "metadata": {},
   "source": [
    "Selanjutnya kita akan mengubah tahun tersebut ke numerikal 0,1,dsb"
   ]
  },
  {
   "cell_type": "code",
   "execution_count": 49,
   "metadata": {},
   "outputs": [
    {
     "data": {
      "text/plain": [
       "array([10,  0,  3,  9,  4,  5,  1,  6,  2,  7,  8])"
      ]
     },
     "execution_count": 49,
     "metadata": {},
     "output_type": "execute_result"
    }
   ],
   "source": [
    "emp_map = {'< 1 year' : '0','1 year' : '1','2 years' : '2','3 years' : '3','4 years' : '4','5 years' : '5','6 years' : '6','7 years' : '7','8 years' : '8','9 years' : '9','10+ years' : '10'}\n",
    "\n",
    "new_data['emp_length'] = new_data['emp_length'].map(emp_map).fillna('0').astype(int)\n",
    "\n",
    "new_data['emp_length'].unique()"
   ]
  },
  {
   "cell_type": "markdown",
   "metadata": {},
   "source": [
    "Dari deksrispi mengenai columns 'earliest_cr_line' yaitu Bulan jalur kredit yang paling awal dilaporkan peminjam dibuka dan 'last_credit_pull_d' Bulan terbaru LC menarik kredit untuk pinjaman ini. Karena parameter dari kedua columns ini dalam waktu, saya belum bisa mengubah waktu ini kedalam parameter yang diharuskan dalam model deskripsi sehingga saya tidak memakai kedua data ini untuk sekarang. \n",
    "\n",
    "Tetapi kedepannya saya akan mencoba mencari cara untuk mengkonversi ke data yang tepat digunakan sehingga bisa dijadikan training data dalam model karena semakin lebih awal credit line, maka semakin stabil sejarah kredit peminjam karena mereka masih bisa meminjam sampai sekarang."
   ]
  },
  {
   "cell_type": "code",
   "execution_count": 51,
   "metadata": {},
   "outputs": [
    {
     "name": "stdout",
     "output_type": "stream",
     "text": [
      "numerical data:  Index(['loan_amnt', 'int_rate', 'installment', 'emp_length', 'annual_inc',\n",
      "       'dti', 'delinq_2yrs', 'inq_last_6mths', 'open_acc', 'pub_rec',\n",
      "       'revol_bal', 'revol_util', 'total_acc', 'collections_12_mths_ex_med',\n",
      "       'acc_now_delinq', 'major_derog'],\n",
      "      dtype='object')\n",
      "categorical data:  Index(['term', 'grade', 'sub_grade', 'emp_title', 'home_ownership',\n",
      "       'verification_status', 'purpose', 'title', 'zip_code', 'addr_state',\n",
      "       'initial_list_status', 'loan_ending'],\n",
      "      dtype='object')\n"
     ]
    }
   ],
   "source": [
    "dropcol6 = ['earliest_cr_line', 'last_credit_pull_d']\n",
    "\n",
    "#numerical\n",
    "nm_data = new_data.drop(dropcol6, axis=1).select_dtypes(exclude= 'object')\n",
    "print('numerical data: ', nm_data.columns)\n",
    "\n",
    "#categorical\n",
    "cg_data = new_data.drop(dropcol6, axis=1).select_dtypes(include= 'object')\n",
    "print('categorical data: ', cg_data.columns)"
   ]
  },
  {
   "cell_type": "markdown",
   "metadata": {},
   "source": [
    "Selanjutnya kita akan menggunakan visualisasi untuk data-data tersebut, kita akan menggunakan histogram, heatmap dan pivot."
   ]
  },
  {
   "cell_type": "code",
   "execution_count": 52,
   "metadata": {},
   "outputs": [
    {
     "data": {
      "image/png": "[encoded data removed]",
      "text/plain": [
       "<Figure size 432x288 with 1 Axes>"
      ]
     },
     "metadata": {
      "needs_background": "light"
     },
     "output_type": "display_data"
    },
    {
     "data": {
      "image/png": "[encoded data removed]",
      "text/plain": [
       "<Figure size 432x288 with 1 Axes>"
      ]
     },
     "metadata": {
      "needs_background": "light"
     },
     "output_type": "display_data"
    },
    {
     "data": {
      "image/png": "[encoded data removed]",
      "text/plain": [
       "<Figure size 432x288 with 1 Axes>"
      ]
     },
     "metadata": {
      "needs_background": "light"
     },
     "output_type": "display_data"
    },
    {
     "data": {
      "image/png": "[encoded data removed]",
      "text/plain": [
       "<Figure size 432x288 with 1 Axes>"
      ]
     },
     "metadata": {
      "needs_background": "light"
     },
     "output_type": "display_data"
    },
    {
     "data": {
      "image/png": "[encoded data removed]",
      "text/plain": [
       "<Figure size 432x288 with 1 Axes>"
      ]
     },
     "metadata": {
      "needs_background": "light"
     },
     "output_type": "display_data"
    },
    {
     "data": {
      "image/png": "[encoded data removed]",
      "text/plain": [
       "<Figure size 432x288 with 1 Axes>"
      ]
     },
     "metadata": {
      "needs_background": "light"
     },
     "output_type": "display_data"
    },
    {
     "data": {
      "image/png": "[encoded data removed]",
      "text/plain": [
       "<Figure size 432x288 with 1 Axes>"
      ]
     },
     "metadata": {
      "needs_background": "light"
     },
     "output_type": "display_data"
    },
    {
     "data": {
      "image/png": "[encoded data removed]",
      "text/plain": [
       "<Figure size 432x288 with 1 Axes>"
      ]
     },
     "metadata": {
      "needs_background": "light"
     },
     "output_type": "display_data"
    },
    {
     "data": {
      "image/png": "[encoded data removed]",
      "text/plain": [
       "<Figure size 432x288 with 1 Axes>"
      ]
     },
     "metadata": {
      "needs_background": "light"
     },
     "output_type": "display_data"
    },
    {
     "data": {
      "image/png": "[encoded data removed]",
      "text/plain": [
       "<Figure size 432x288 with 1 Axes>"
      ]
     },
     "metadata": {
      "needs_background": "light"
     },
     "output_type": "display_data"
    },
    {
     "data": {
      "image/png": "[encoded data removed]",
      "text/plain": [
       "<Figure size 432x288 with 1 Axes>"
      ]
     },
     "metadata": {
      "needs_background": "light"
     },
     "output_type": "display_data"
    },
    {
     "data": {
      "image/png": "[encoded data removed]",
      "text/plain": [
       "<Figure size 432x288 with 1 Axes>"
      ]
     },
     "metadata": {
      "needs_background": "light"
     },
     "output_type": "display_data"
    },
    {
     "data": {
      "image/png": "[encoded data removed]",
      "text/plain": [
       "<Figure size 432x288 with 1 Axes>"
      ]
     },
     "metadata": {
      "needs_background": "light"
     },
     "output_type": "display_data"
    },
    {
     "data": {
      "image/png": "[encoded data removed]",
      "text/plain": [
       "<Figure size 432x288 with 1 Axes>"
      ]
     },
     "metadata": {
      "needs_background": "light"
     },
     "output_type": "display_data"
    },
    {
     "data": {
      "image/png": "[encoded data removed]",
      "text/plain": [
       "<Figure size 432x288 with 1 Axes>"
      ]
     },
     "metadata": {
      "needs_background": "light"
     },
     "output_type": "display_data"
    },
    {
     "data": {
      "image/png": "[encoded data removed]",
      "text/plain": [
       "<Figure size 432x288 with 1 Axes>"
      ]
     },
     "metadata": {
      "needs_background": "light"
     },
     "output_type": "display_data"
    }
   ],
   "source": [
    "#Histogram\n",
    "for i in nm_data.columns:\n",
    "    plt.hist(nm_data[i])\n",
    "    plt.title(i)\n",
    "    plt.show()"
   ]
  },
  {
   "cell_type": "code",
   "execution_count": 56,
   "metadata": {},
   "outputs": [
    {
     "data": {
      "text/plain": [
       "<AxesSubplot:>"
      ]
     },
     "execution_count": 56,
     "metadata": {},
     "output_type": "execute_result"
    },
    {
     "data": {
      "image/png": "[encoded data removed]",
      "text/plain": [
       "<Figure size 1080x1080 with 2 Axes>"
      ]
     },
     "metadata": {
      "needs_background": "light"
     },
     "output_type": "display_data"
    }
   ],
   "source": [
    "#Heatmap\n",
    "plt.figure(figsize=(15,15))\n",
    "sns.heatmap(data=nm_data.corr(), annot=True)"
   ]
  },
  {
   "cell_type": "code",
   "execution_count": 57,
   "metadata": {},
   "outputs": [
    {
     "data": {
      "text/html": [
       "<div>\n",
       "<style scoped>\n",
       "    .dataframe tbody tr th:only-of-type {\n",
       "        vertical-align: middle;\n",
       "    }\n",
       "\n",
       "    .dataframe tbody tr th {\n",
       "        vertical-align: top;\n",
       "    }\n",
       "\n",
       "    .dataframe thead th {\n",
       "        text-align: right;\n",
       "    }\n",
       "</style>\n",
       "<table border=\"1\" class=\"dataframe\">\n",
       "  <thead>\n",
       "    <tr style=\"text-align: right;\">\n",
       "      <th></th>\n",
       "      <th>acc_now_delinq</th>\n",
       "      <th>annual_inc</th>\n",
       "      <th>collections_12_mths_ex_med</th>\n",
       "      <th>delinq_2yrs</th>\n",
       "      <th>dti</th>\n",
       "      <th>emp_length</th>\n",
       "      <th>inq_last_6mths</th>\n",
       "      <th>installment</th>\n",
       "      <th>int_rate</th>\n",
       "      <th>loan_amnt</th>\n",
       "      <th>major_derog</th>\n",
       "      <th>open_acc</th>\n",
       "      <th>pub_rec</th>\n",
       "      <th>revol_bal</th>\n",
       "      <th>revol_util</th>\n",
       "      <th>total_acc</th>\n",
       "    </tr>\n",
       "    <tr>\n",
       "      <th>loan_ending</th>\n",
       "      <th></th>\n",
       "      <th></th>\n",
       "      <th></th>\n",
       "      <th></th>\n",
       "      <th></th>\n",
       "      <th></th>\n",
       "      <th></th>\n",
       "      <th></th>\n",
       "      <th></th>\n",
       "      <th></th>\n",
       "      <th></th>\n",
       "      <th></th>\n",
       "      <th></th>\n",
       "      <th></th>\n",
       "      <th></th>\n",
       "      <th></th>\n",
       "    </tr>\n",
       "  </thead>\n",
       "  <tbody>\n",
       "    <tr>\n",
       "      <th>good</th>\n",
       "      <td>0.002592</td>\n",
       "      <td>73692.992170</td>\n",
       "      <td>0.005412</td>\n",
       "      <td>0.236330</td>\n",
       "      <td>15.918505</td>\n",
       "      <td>5.584441</td>\n",
       "      <td>0.872566</td>\n",
       "      <td>409.765891</td>\n",
       "      <td>13.263637</td>\n",
       "      <td>13167.962855</td>\n",
       "      <td>0.171721</td>\n",
       "      <td>10.787136</td>\n",
       "      <td>0.131097</td>\n",
       "      <td>15243.436530</td>\n",
       "      <td>53.712532</td>\n",
       "      <td>24.945764</td>\n",
       "    </tr>\n",
       "    <tr>\n",
       "      <th>risk</th>\n",
       "      <td>0.003986</td>\n",
       "      <td>65615.836951</td>\n",
       "      <td>0.007822</td>\n",
       "      <td>0.291129</td>\n",
       "      <td>18.304479</td>\n",
       "      <td>5.502932</td>\n",
       "      <td>1.029550</td>\n",
       "      <td>442.587052</td>\n",
       "      <td>15.973031</td>\n",
       "      <td>14624.953053</td>\n",
       "      <td>0.200801</td>\n",
       "      <td>11.113025</td>\n",
       "      <td>0.148650</td>\n",
       "      <td>15150.614552</td>\n",
       "      <td>59.588562</td>\n",
       "      <td>24.333576</td>\n",
       "    </tr>\n",
       "  </tbody>\n",
       "</table>\n",
       "</div>"
      ],
      "text/plain": [
       "             acc_now_delinq    annual_inc  collections_12_mths_ex_med  \\\n",
       "loan_ending                                                             \n",
       "good               0.002592  73692.992170                    0.005412   \n",
       "risk               0.003986  65615.836951                    0.007822   \n",
       "\n",
       "             delinq_2yrs        dti  emp_length  inq_last_6mths  installment  \\\n",
       "loan_ending                                                                    \n",
       "good            0.236330  15.918505    5.584441        0.872566   409.765891   \n",
       "risk            0.291129  18.304479    5.502932        1.029550   442.587052   \n",
       "\n",
       "              int_rate     loan_amnt  major_derog   open_acc   pub_rec  \\\n",
       "loan_ending                                                              \n",
       "good         13.263637  13167.962855     0.171721  10.787136  0.131097   \n",
       "risk         15.973031  14624.953053     0.200801  11.113025  0.148650   \n",
       "\n",
       "                revol_bal  revol_util  total_acc  \n",
       "loan_ending                                       \n",
       "good         15243.436530   53.712532  24.945764  \n",
       "risk         15150.614552   59.588562  24.333576  "
      ]
     },
     "execution_count": 57,
     "metadata": {},
     "output_type": "execute_result"
    }
   ],
   "source": [
    "#Pivot\n",
    "pd.pivot_table(new_data, index = 'loan_ending', values = nm_data.columns)"
   ]
  },
  {
   "cell_type": "markdown",
   "metadata": {},
   "source": [
    "Kesimpulan yang didapatkan\n",
    "1. Ada beberapa outliner dalam data\n",
    "2. Hanya sedikit data numerical yang mempunyai distribusi normal\n",
    "3. Terlihat ada hubungan yang hampir sempurna dari 'installment' dan 'loan_amnt'\n",
    "\n",
    "Dari tabel pivot, ada beberapa chiri khusus untuk pinjaman risk:\n",
    "1. 'acc_now_delingq' dan 'deling_2yrs' yang tinggi\n",
    "2. 'annual_inc' yang lebih rendah\n",
    "3. 'installment' dan '14624.953053' yang lebih tinggi\n",
    "4. 'major_derog' yang lebih tinggi\n",
    "dsb"
   ]
  },
  {
   "cell_type": "code",
   "execution_count": 58,
   "metadata": {},
   "outputs": [
    {
     "data": {
      "text/plain": [
       "term                        2\n",
       "grade                       7\n",
       "sub_grade                  35\n",
       "emp_title              129889\n",
       "home_ownership              6\n",
       "verification_status         3\n",
       "purpose                    14\n",
       "title                   49930\n",
       "zip_code                  875\n",
       "addr_state                 50\n",
       "initial_list_status         2\n",
       "loan_ending                 2\n",
       "dtype: int64"
      ]
     },
     "execution_count": 58,
     "metadata": {},
     "output_type": "execute_result"
    }
   ],
   "source": [
    "cg_data.nunique()"
   ]
  },
  {
   "cell_type": "markdown",
   "metadata": {},
   "source": [
    "Selanjutnya kita akan membuang columns yang mempunyai banyak variabel seperti 'emp_title', 'title', dan 'zip_code' yang kita rasa juga tidak perlu digunakan dalam model prediksi ini."
   ]
  },
  {
   "cell_type": "code",
   "execution_count": 59,
   "metadata": {},
   "outputs": [],
   "source": [
    "#membuang columns\n",
    "dropcol7 = ['zip_code', 'title', 'emp_title']\n",
    "\n",
    "cg_data.drop(dropcol7, axis=1, inplace=True)"
   ]
  },
  {
   "cell_type": "code",
   "execution_count": 60,
   "metadata": {},
   "outputs": [
    {
     "data": {
      "text/plain": [
       "term                    2\n",
       "grade                   7\n",
       "sub_grade              35\n",
       "home_ownership          6\n",
       "verification_status     3\n",
       "purpose                14\n",
       "addr_state             50\n",
       "initial_list_status     2\n",
       "loan_ending             2\n",
       "dtype: int64"
      ]
     },
     "execution_count": 60,
     "metadata": {},
     "output_type": "execute_result"
    }
   ],
   "source": [
    "#melihat kembali isi data categorical\n",
    "cg_data.nunique()"
   ]
  },
  {
   "cell_type": "code",
   "execution_count": 64,
   "metadata": {},
   "outputs": [
    {
     "data": {
      "text/plain": [
       "array(['B', 'C', 'A', 'E', 'F', 'D', 'G'], dtype=object)"
      ]
     },
     "execution_count": 64,
     "metadata": {},
     "output_type": "execute_result"
    }
   ],
   "source": [
    "new_data['grade'].unique()"
   ]
  },
  {
   "cell_type": "code",
   "execution_count": 65,
   "metadata": {},
   "outputs": [
    {
     "data": {
      "text/plain": [
       "array(['B2', 'C4', 'C5', 'C1', 'A4', 'E1', 'F2', 'B5', 'C3', 'B1', 'D1',\n",
       "       'A1', 'B3', 'B4', 'C2', 'D2', 'A3', 'A5', 'D5', 'A2', 'E4', 'D3',\n",
       "       'D4', 'F3', 'E3', 'F1', 'E5', 'G4', 'E2', 'G2', 'G1', 'F5', 'F4',\n",
       "       'G5', 'G3'], dtype=object)"
      ]
     },
     "execution_count": 65,
     "metadata": {},
     "output_type": "execute_result"
    }
   ],
   "source": [
    "new_data['sub_grade'].unique()"
   ]
  },
  {
   "cell_type": "code",
   "execution_count": 67,
   "metadata": {},
   "outputs": [
    {
     "data": {
      "image/png": "[encoded data removed]",
      "text/plain": [
       "<Figure size 1080x720 with 2 Axes>"
      ]
     },
     "metadata": {
      "needs_background": "light"
     },
     "output_type": "display_data"
    }
   ],
   "source": [
    "plt.figure(figsize=(15, 10))\n",
    "\n",
    "plt.subplot(2, 2, 1)\n",
    "grade = sorted(new_data.grade.unique().tolist())\n",
    "sns.countplot(x='grade', data=new_data, hue='loan_ending', order=grade)\n",
    "\n",
    "plt.subplot(2, 2, 2)\n",
    "sub_grade = sorted(new_data.sub_grade.unique().tolist())\n",
    "g = sns.countplot(x='sub_grade', data=new_data, hue='loan_ending', order=sub_grade)\n",
    "g.set_xticklabels(g.get_xticklabels(), rotation=90);"
   ]
  },
  {
   "cell_type": "code",
   "execution_count": 68,
   "metadata": {},
   "outputs": [
    {
     "data": {
      "text/plain": [
       "term                    2\n",
       "grade                   7\n",
       "sub_grade              35\n",
       "home_ownership          6\n",
       "verification_status     3\n",
       "purpose                14\n",
       "addr_state             50\n",
       "initial_list_status     2\n",
       "loan_ending             2\n",
       "dtype: int64"
      ]
     },
     "execution_count": 68,
     "metadata": {},
     "output_type": "execute_result"
    }
   ],
   "source": [
    "cg_data.nunique()"
   ]
  },
  {
   "cell_type": "markdown",
   "metadata": {},
   "source": [
    "Karena dalam plot grade dan subgrade terlihat sama makan kita bisa membuang salah satu columns, yang kita buang adalah 'sub'grade'. Lalu kita akan mengubah data categorical menjadi numerical untuk mempermudah dalam memasukkan model.\n",
    "\n",
    "1. untuk 'term' kita akan membuang months untuk menjadikan numerical\n",
    "2. untuk 'grade' kita akan mengubah menjadi numerik per grade\n",
    "3. untuk 'home_ownership', 'verification_status', 'purpose', 'addr_state', 'initial_list_status' kita akan melakukan seperti 'major_grade' dimana yes adalah '1' dan no adalah '0'"
   ]
  },
  {
   "cell_type": "code",
   "execution_count": 72,
   "metadata": {},
   "outputs": [
    {
     "data": {
      "text/plain": [
       "term                    2\n",
       "grade                   7\n",
       "home_ownership          6\n",
       "verification_status     3\n",
       "purpose                14\n",
       "addr_state             50\n",
       "initial_list_status     2\n",
       "loan_ending             2\n",
       "dtype: int64"
      ]
     },
     "execution_count": 72,
     "metadata": {},
     "output_type": "execute_result"
    }
   ],
   "source": [
    "cg_data.drop('sub_grade', axis = 1, inplace=True)\n",
    "\n",
    "cg_data.nunique()"
   ]
  },
  {
   "cell_type": "code",
   "execution_count": 73,
   "metadata": {},
   "outputs": [],
   "source": [
    "#1. Mengubah 'term'\n",
    "cg_data['term'] = cg_data['term'].str.replace(' months', '').astype(int)"
   ]
  },
  {
   "cell_type": "code",
   "execution_count": 74,
   "metadata": {},
   "outputs": [
    {
     "data": {
      "text/plain": [
       "array(['B', 'C', 'A', 'E', 'F', 'D', 'G'], dtype=object)"
      ]
     },
     "execution_count": 74,
     "metadata": {},
     "output_type": "execute_result"
    }
   ],
   "source": [
    "#2. Mengubah 'grade'\n",
    "cg_data['grade'].unique()"
   ]
  },
  {
   "cell_type": "code",
   "execution_count": 75,
   "metadata": {},
   "outputs": [],
   "source": [
    "grade_new = {'A' : 1,'B' : 2,'C' : 3,'D' : 4,'E' : 5,'F' : 6,'G' : 7,}\n",
    "\n",
    "cg_data['grade'] = cg_data['grade'].map(grade_new)"
   ]
  },
  {
   "cell_type": "code",
   "execution_count": 76,
   "metadata": {},
   "outputs": [
    {
     "data": {
      "text/plain": [
       "array([2, 3, 1, 5, 6, 4, 7], dtype=int64)"
      ]
     },
     "execution_count": 76,
     "metadata": {},
     "output_type": "execute_result"
    }
   ],
   "source": [
    "cg_data['grade'].unique()"
   ]
  },
  {
   "cell_type": "markdown",
   "metadata": {},
   "source": [
    "Membuat dummy pada columns baru"
   ]
  },
  {
   "cell_type": "code",
   "execution_count": 78,
   "metadata": {},
   "outputs": [],
   "source": [
    "#3. membuat yes (1) dan no (0)\n",
    "newcols0 = ['home_ownership', 'verification_status', 'purpose', 'addr_state', 'initial_list_status']\n",
    "\n",
    "dummy = pd.get_dummies(cg_data[newcols0])\n",
    "dummy.drop('initial_list_status_w', axis=1, inplace=True)"
   ]
  },
  {
   "cell_type": "code",
   "execution_count": 79,
   "metadata": {},
   "outputs": [
    {
     "data": {
      "text/html": [
       "<div>\n",
       "<style scoped>\n",
       "    .dataframe tbody tr th:only-of-type {\n",
       "        vertical-align: middle;\n",
       "    }\n",
       "\n",
       "    .dataframe tbody tr th {\n",
       "        vertical-align: top;\n",
       "    }\n",
       "\n",
       "    .dataframe thead th {\n",
       "        text-align: right;\n",
       "    }\n",
       "</style>\n",
       "<table border=\"1\" class=\"dataframe\">\n",
       "  <thead>\n",
       "    <tr style=\"text-align: right;\">\n",
       "      <th></th>\n",
       "      <th>home_ownership_ANY</th>\n",
       "      <th>home_ownership_MORTGAGE</th>\n",
       "      <th>home_ownership_NONE</th>\n",
       "      <th>home_ownership_OTHER</th>\n",
       "      <th>home_ownership_OWN</th>\n",
       "      <th>home_ownership_RENT</th>\n",
       "      <th>verification_status_Not Verified</th>\n",
       "      <th>verification_status_Source Verified</th>\n",
       "      <th>verification_status_Verified</th>\n",
       "      <th>purpose_car</th>\n",
       "      <th>...</th>\n",
       "      <th>addr_state_TN</th>\n",
       "      <th>addr_state_TX</th>\n",
       "      <th>addr_state_UT</th>\n",
       "      <th>addr_state_VA</th>\n",
       "      <th>addr_state_VT</th>\n",
       "      <th>addr_state_WA</th>\n",
       "      <th>addr_state_WI</th>\n",
       "      <th>addr_state_WV</th>\n",
       "      <th>addr_state_WY</th>\n",
       "      <th>initial_list_status_f</th>\n",
       "    </tr>\n",
       "  </thead>\n",
       "  <tbody>\n",
       "    <tr>\n",
       "      <th>0</th>\n",
       "      <td>0</td>\n",
       "      <td>0</td>\n",
       "      <td>0</td>\n",
       "      <td>0</td>\n",
       "      <td>0</td>\n",
       "      <td>1</td>\n",
       "      <td>0</td>\n",
       "      <td>0</td>\n",
       "      <td>1</td>\n",
       "      <td>0</td>\n",
       "      <td>...</td>\n",
       "      <td>0</td>\n",
       "      <td>0</td>\n",
       "      <td>0</td>\n",
       "      <td>0</td>\n",
       "      <td>0</td>\n",
       "      <td>0</td>\n",
       "      <td>0</td>\n",
       "      <td>0</td>\n",
       "      <td>0</td>\n",
       "      <td>1</td>\n",
       "    </tr>\n",
       "    <tr>\n",
       "      <th>1</th>\n",
       "      <td>0</td>\n",
       "      <td>0</td>\n",
       "      <td>0</td>\n",
       "      <td>0</td>\n",
       "      <td>0</td>\n",
       "      <td>1</td>\n",
       "      <td>0</td>\n",
       "      <td>1</td>\n",
       "      <td>0</td>\n",
       "      <td>1</td>\n",
       "      <td>...</td>\n",
       "      <td>0</td>\n",
       "      <td>0</td>\n",
       "      <td>0</td>\n",
       "      <td>0</td>\n",
       "      <td>0</td>\n",
       "      <td>0</td>\n",
       "      <td>0</td>\n",
       "      <td>0</td>\n",
       "      <td>0</td>\n",
       "      <td>1</td>\n",
       "    </tr>\n",
       "    <tr>\n",
       "      <th>2</th>\n",
       "      <td>0</td>\n",
       "      <td>0</td>\n",
       "      <td>0</td>\n",
       "      <td>0</td>\n",
       "      <td>0</td>\n",
       "      <td>1</td>\n",
       "      <td>1</td>\n",
       "      <td>0</td>\n",
       "      <td>0</td>\n",
       "      <td>0</td>\n",
       "      <td>...</td>\n",
       "      <td>0</td>\n",
       "      <td>0</td>\n",
       "      <td>0</td>\n",
       "      <td>0</td>\n",
       "      <td>0</td>\n",
       "      <td>0</td>\n",
       "      <td>0</td>\n",
       "      <td>0</td>\n",
       "      <td>0</td>\n",
       "      <td>1</td>\n",
       "    </tr>\n",
       "    <tr>\n",
       "      <th>3</th>\n",
       "      <td>0</td>\n",
       "      <td>0</td>\n",
       "      <td>0</td>\n",
       "      <td>0</td>\n",
       "      <td>0</td>\n",
       "      <td>1</td>\n",
       "      <td>0</td>\n",
       "      <td>1</td>\n",
       "      <td>0</td>\n",
       "      <td>0</td>\n",
       "      <td>...</td>\n",
       "      <td>0</td>\n",
       "      <td>0</td>\n",
       "      <td>0</td>\n",
       "      <td>0</td>\n",
       "      <td>0</td>\n",
       "      <td>0</td>\n",
       "      <td>0</td>\n",
       "      <td>0</td>\n",
       "      <td>0</td>\n",
       "      <td>1</td>\n",
       "    </tr>\n",
       "    <tr>\n",
       "      <th>5</th>\n",
       "      <td>0</td>\n",
       "      <td>0</td>\n",
       "      <td>0</td>\n",
       "      <td>0</td>\n",
       "      <td>0</td>\n",
       "      <td>1</td>\n",
       "      <td>0</td>\n",
       "      <td>1</td>\n",
       "      <td>0</td>\n",
       "      <td>0</td>\n",
       "      <td>...</td>\n",
       "      <td>0</td>\n",
       "      <td>0</td>\n",
       "      <td>0</td>\n",
       "      <td>0</td>\n",
       "      <td>0</td>\n",
       "      <td>0</td>\n",
       "      <td>0</td>\n",
       "      <td>0</td>\n",
       "      <td>0</td>\n",
       "      <td>1</td>\n",
       "    </tr>\n",
       "  </tbody>\n",
       "</table>\n",
       "<p>5 rows × 74 columns</p>\n",
       "</div>"
      ],
      "text/plain": [
       "   home_ownership_ANY  home_ownership_MORTGAGE  home_ownership_NONE  \\\n",
       "0                   0                        0                    0   \n",
       "1                   0                        0                    0   \n",
       "2                   0                        0                    0   \n",
       "3                   0                        0                    0   \n",
       "5                   0                        0                    0   \n",
       "\n",
       "   home_ownership_OTHER  home_ownership_OWN  home_ownership_RENT  \\\n",
       "0                     0                   0                    1   \n",
       "1                     0                   0                    1   \n",
       "2                     0                   0                    1   \n",
       "3                     0                   0                    1   \n",
       "5                     0                   0                    1   \n",
       "\n",
       "   verification_status_Not Verified  verification_status_Source Verified  \\\n",
       "0                                 0                                    0   \n",
       "1                                 0                                    1   \n",
       "2                                 1                                    0   \n",
       "3                                 0                                    1   \n",
       "5                                 0                                    1   \n",
       "\n",
       "   verification_status_Verified  purpose_car  ...  addr_state_TN  \\\n",
       "0                             1            0  ...              0   \n",
       "1                             0            1  ...              0   \n",
       "2                             0            0  ...              0   \n",
       "3                             0            0  ...              0   \n",
       "5                             0            0  ...              0   \n",
       "\n",
       "   addr_state_TX  addr_state_UT  addr_state_VA  addr_state_VT  addr_state_WA  \\\n",
       "0              0              0              0              0              0   \n",
       "1              0              0              0              0              0   \n",
       "2              0              0              0              0              0   \n",
       "3              0              0              0              0              0   \n",
       "5              0              0              0              0              0   \n",
       "\n",
       "   addr_state_WI  addr_state_WV  addr_state_WY  initial_list_status_f  \n",
       "0              0              0              0                      1  \n",
       "1              0              0              0                      1  \n",
       "2              0              0              0                      1  \n",
       "3              0              0              0                      1  \n",
       "5              0              0              0                      1  \n",
       "\n",
       "[5 rows x 74 columns]"
      ]
     },
     "execution_count": 79,
     "metadata": {},
     "output_type": "execute_result"
    }
   ],
   "source": [
    "#melihat dummy\n",
    "dummy.head()"
   ]
  },
  {
   "cell_type": "code",
   "execution_count": 81,
   "metadata": {},
   "outputs": [],
   "source": [
    "#membuang columns yang telah yes (1) dan no (0)\n",
    "cg_data.drop(newcols0, axis=1, inplace=True)"
   ]
  },
  {
   "cell_type": "code",
   "execution_count": 83,
   "metadata": {},
   "outputs": [],
   "source": [
    "#menggabungkan data categorical dengan data yes or no\n",
    "cg_data_final = pd.concat([cg_data, dummy], axis = 1)"
   ]
  },
  {
   "cell_type": "markdown",
   "metadata": {},
   "source": [
    "Selanjutnya kita menggabungkan data categorical dan numerical"
   ]
  },
  {
   "cell_type": "code",
   "execution_count": 85,
   "metadata": {},
   "outputs": [
    {
     "data": {
      "text/html": [
       "<div>\n",
       "<style scoped>\n",
       "    .dataframe tbody tr th:only-of-type {\n",
       "        vertical-align: middle;\n",
       "    }\n",
       "\n",
       "    .dataframe tbody tr th {\n",
       "        vertical-align: top;\n",
       "    }\n",
       "\n",
       "    .dataframe thead th {\n",
       "        text-align: right;\n",
       "    }\n",
       "</style>\n",
       "<table border=\"1\" class=\"dataframe\">\n",
       "  <thead>\n",
       "    <tr style=\"text-align: right;\">\n",
       "      <th></th>\n",
       "      <th>loan_amnt</th>\n",
       "      <th>int_rate</th>\n",
       "      <th>installment</th>\n",
       "      <th>emp_length</th>\n",
       "      <th>annual_inc</th>\n",
       "      <th>dti</th>\n",
       "      <th>delinq_2yrs</th>\n",
       "      <th>inq_last_6mths</th>\n",
       "      <th>open_acc</th>\n",
       "      <th>pub_rec</th>\n",
       "      <th>...</th>\n",
       "      <th>addr_state_TN</th>\n",
       "      <th>addr_state_TX</th>\n",
       "      <th>addr_state_UT</th>\n",
       "      <th>addr_state_VA</th>\n",
       "      <th>addr_state_VT</th>\n",
       "      <th>addr_state_WA</th>\n",
       "      <th>addr_state_WI</th>\n",
       "      <th>addr_state_WV</th>\n",
       "      <th>addr_state_WY</th>\n",
       "      <th>initial_list_status_f</th>\n",
       "    </tr>\n",
       "  </thead>\n",
       "  <tbody>\n",
       "    <tr>\n",
       "      <th>0</th>\n",
       "      <td>5000</td>\n",
       "      <td>10.65</td>\n",
       "      <td>162.87</td>\n",
       "      <td>10</td>\n",
       "      <td>24000.0</td>\n",
       "      <td>27.65</td>\n",
       "      <td>0.0</td>\n",
       "      <td>1.0</td>\n",
       "      <td>3.0</td>\n",
       "      <td>0.0</td>\n",
       "      <td>...</td>\n",
       "      <td>0</td>\n",
       "      <td>0</td>\n",
       "      <td>0</td>\n",
       "      <td>0</td>\n",
       "      <td>0</td>\n",
       "      <td>0</td>\n",
       "      <td>0</td>\n",
       "      <td>0</td>\n",
       "      <td>0</td>\n",
       "      <td>1</td>\n",
       "    </tr>\n",
       "    <tr>\n",
       "      <th>1</th>\n",
       "      <td>2500</td>\n",
       "      <td>15.27</td>\n",
       "      <td>59.83</td>\n",
       "      <td>0</td>\n",
       "      <td>30000.0</td>\n",
       "      <td>1.00</td>\n",
       "      <td>0.0</td>\n",
       "      <td>5.0</td>\n",
       "      <td>3.0</td>\n",
       "      <td>0.0</td>\n",
       "      <td>...</td>\n",
       "      <td>0</td>\n",
       "      <td>0</td>\n",
       "      <td>0</td>\n",
       "      <td>0</td>\n",
       "      <td>0</td>\n",
       "      <td>0</td>\n",
       "      <td>0</td>\n",
       "      <td>0</td>\n",
       "      <td>0</td>\n",
       "      <td>1</td>\n",
       "    </tr>\n",
       "    <tr>\n",
       "      <th>2</th>\n",
       "      <td>2400</td>\n",
       "      <td>15.96</td>\n",
       "      <td>84.33</td>\n",
       "      <td>10</td>\n",
       "      <td>12252.0</td>\n",
       "      <td>8.72</td>\n",
       "      <td>0.0</td>\n",
       "      <td>2.0</td>\n",
       "      <td>2.0</td>\n",
       "      <td>0.0</td>\n",
       "      <td>...</td>\n",
       "      <td>0</td>\n",
       "      <td>0</td>\n",
       "      <td>0</td>\n",
       "      <td>0</td>\n",
       "      <td>0</td>\n",
       "      <td>0</td>\n",
       "      <td>0</td>\n",
       "      <td>0</td>\n",
       "      <td>0</td>\n",
       "      <td>1</td>\n",
       "    </tr>\n",
       "    <tr>\n",
       "      <th>3</th>\n",
       "      <td>10000</td>\n",
       "      <td>13.49</td>\n",
       "      <td>339.31</td>\n",
       "      <td>10</td>\n",
       "      <td>49200.0</td>\n",
       "      <td>20.00</td>\n",
       "      <td>0.0</td>\n",
       "      <td>1.0</td>\n",
       "      <td>10.0</td>\n",
       "      <td>0.0</td>\n",
       "      <td>...</td>\n",
       "      <td>0</td>\n",
       "      <td>0</td>\n",
       "      <td>0</td>\n",
       "      <td>0</td>\n",
       "      <td>0</td>\n",
       "      <td>0</td>\n",
       "      <td>0</td>\n",
       "      <td>0</td>\n",
       "      <td>0</td>\n",
       "      <td>1</td>\n",
       "    </tr>\n",
       "    <tr>\n",
       "      <th>4</th>\n",
       "      <td>5000</td>\n",
       "      <td>7.90</td>\n",
       "      <td>156.46</td>\n",
       "      <td>3</td>\n",
       "      <td>36000.0</td>\n",
       "      <td>11.20</td>\n",
       "      <td>0.0</td>\n",
       "      <td>3.0</td>\n",
       "      <td>9.0</td>\n",
       "      <td>0.0</td>\n",
       "      <td>...</td>\n",
       "      <td>0</td>\n",
       "      <td>0</td>\n",
       "      <td>0</td>\n",
       "      <td>0</td>\n",
       "      <td>0</td>\n",
       "      <td>0</td>\n",
       "      <td>0</td>\n",
       "      <td>0</td>\n",
       "      <td>0</td>\n",
       "      <td>1</td>\n",
       "    </tr>\n",
       "  </tbody>\n",
       "</table>\n",
       "<p>5 rows × 93 columns</p>\n",
       "</div>"
      ],
      "text/plain": [
       "   loan_amnt  int_rate  installment  emp_length  annual_inc    dti  \\\n",
       "0       5000     10.65       162.87          10     24000.0  27.65   \n",
       "1       2500     15.27        59.83           0     30000.0   1.00   \n",
       "2       2400     15.96        84.33          10     12252.0   8.72   \n",
       "3      10000     13.49       339.31          10     49200.0  20.00   \n",
       "4       5000      7.90       156.46           3     36000.0  11.20   \n",
       "\n",
       "   delinq_2yrs  inq_last_6mths  open_acc  pub_rec  ...  addr_state_TN  \\\n",
       "0          0.0             1.0       3.0      0.0  ...              0   \n",
       "1          0.0             5.0       3.0      0.0  ...              0   \n",
       "2          0.0             2.0       2.0      0.0  ...              0   \n",
       "3          0.0             1.0      10.0      0.0  ...              0   \n",
       "4          0.0             3.0       9.0      0.0  ...              0   \n",
       "\n",
       "   addr_state_TX  addr_state_UT  addr_state_VA  addr_state_VT  addr_state_WA  \\\n",
       "0              0              0              0              0              0   \n",
       "1              0              0              0              0              0   \n",
       "2              0              0              0              0              0   \n",
       "3              0              0              0              0              0   \n",
       "4              0              0              0              0              0   \n",
       "\n",
       "   addr_state_WI  addr_state_WV addr_state_WY  initial_list_status_f  \n",
       "0              0              0             0                      1  \n",
       "1              0              0             0                      1  \n",
       "2              0              0             0                      1  \n",
       "3              0              0             0                      1  \n",
       "4              0              0             0                      1  \n",
       "\n",
       "[5 rows x 93 columns]"
      ]
     },
     "execution_count": 85,
     "metadata": {},
     "output_type": "execute_result"
    }
   ],
   "source": [
    "data_final = pd.concat([nm_data, cg_data_final], axis = 1).dropna().reset_index().drop('index', axis = 1)\n",
    "data_final.head()"
   ]
  },
  {
   "cell_type": "code",
   "execution_count": 86,
   "metadata": {},
   "outputs": [
    {
     "name": "stdout",
     "output_type": "stream",
     "text": [
      "<class 'pandas.core.frame.DataFrame'>\n",
      "RangeIndex: 238568 entries, 0 to 238567\n",
      "Data columns (total 93 columns):\n",
      " #   Column                               Non-Null Count   Dtype  \n",
      "---  ------                               --------------   -----  \n",
      " 0   loan_amnt                            238568 non-null  int64  \n",
      " 1   int_rate                             238568 non-null  float64\n",
      " 2   installment                          238568 non-null  float64\n",
      " 3   emp_length                           238568 non-null  int32  \n",
      " 4   annual_inc                           238568 non-null  float64\n",
      " 5   dti                                  238568 non-null  float64\n",
      " 6   delinq_2yrs                          238568 non-null  float64\n",
      " 7   inq_last_6mths                       238568 non-null  float64\n",
      " 8   open_acc                             238568 non-null  float64\n",
      " 9   pub_rec                              238568 non-null  float64\n",
      " 10  revol_bal                            238568 non-null  int64  \n",
      " 11  revol_util                           238568 non-null  float64\n",
      " 12  total_acc                            238568 non-null  float64\n",
      " 13  collections_12_mths_ex_med           238568 non-null  float64\n",
      " 14  acc_now_delinq                       238568 non-null  float64\n",
      " 15  major_derog                          238568 non-null  int32  \n",
      " 16  term                                 238568 non-null  int32  \n",
      " 17  grade                                238568 non-null  int64  \n",
      " 18  loan_ending                          238568 non-null  object \n",
      " 19  home_ownership_ANY                   238568 non-null  uint8  \n",
      " 20  home_ownership_MORTGAGE              238568 non-null  uint8  \n",
      " 21  home_ownership_NONE                  238568 non-null  uint8  \n",
      " 22  home_ownership_OTHER                 238568 non-null  uint8  \n",
      " 23  home_ownership_OWN                   238568 non-null  uint8  \n",
      " 24  home_ownership_RENT                  238568 non-null  uint8  \n",
      " 25  verification_status_Not Verified     238568 non-null  uint8  \n",
      " 26  verification_status_Source Verified  238568 non-null  uint8  \n",
      " 27  verification_status_Verified         238568 non-null  uint8  \n",
      " 28  purpose_car                          238568 non-null  uint8  \n",
      " 29  purpose_credit_card                  238568 non-null  uint8  \n",
      " 30  purpose_debt_consolidation           238568 non-null  uint8  \n",
      " 31  purpose_educational                  238568 non-null  uint8  \n",
      " 32  purpose_home_improvement             238568 non-null  uint8  \n",
      " 33  purpose_house                        238568 non-null  uint8  \n",
      " 34  purpose_major_purchase               238568 non-null  uint8  \n",
      " 35  purpose_medical                      238568 non-null  uint8  \n",
      " 36  purpose_moving                       238568 non-null  uint8  \n",
      " 37  purpose_other                        238568 non-null  uint8  \n",
      " 38  purpose_renewable_energy             238568 non-null  uint8  \n",
      " 39  purpose_small_business               238568 non-null  uint8  \n",
      " 40  purpose_vacation                     238568 non-null  uint8  \n",
      " 41  purpose_wedding                      238568 non-null  uint8  \n",
      " 42  addr_state_AK                        238568 non-null  uint8  \n",
      " 43  addr_state_AL                        238568 non-null  uint8  \n",
      " 44  addr_state_AR                        238568 non-null  uint8  \n",
      " 45  addr_state_AZ                        238568 non-null  uint8  \n",
      " 46  addr_state_CA                        238568 non-null  uint8  \n",
      " 47  addr_state_CO                        238568 non-null  uint8  \n",
      " 48  addr_state_CT                        238568 non-null  uint8  \n",
      " 49  addr_state_DC                        238568 non-null  uint8  \n",
      " 50  addr_state_DE                        238568 non-null  uint8  \n",
      " 51  addr_state_FL                        238568 non-null  uint8  \n",
      " 52  addr_state_GA                        238568 non-null  uint8  \n",
      " 53  addr_state_HI                        238568 non-null  uint8  \n",
      " 54  addr_state_IA                        238568 non-null  uint8  \n",
      " 55  addr_state_ID                        238568 non-null  uint8  \n",
      " 56  addr_state_IL                        238568 non-null  uint8  \n",
      " 57  addr_state_IN                        238568 non-null  uint8  \n",
      " 58  addr_state_KS                        238568 non-null  uint8  \n",
      " 59  addr_state_KY                        238568 non-null  uint8  \n",
      " 60  addr_state_LA                        238568 non-null  uint8  \n",
      " 61  addr_state_MA                        238568 non-null  uint8  \n",
      " 62  addr_state_MD                        238568 non-null  uint8  \n",
      " 63  addr_state_ME                        238568 non-null  uint8  \n",
      " 64  addr_state_MI                        238568 non-null  uint8  \n",
      " 65  addr_state_MN                        238568 non-null  uint8  \n",
      " 66  addr_state_MO                        238568 non-null  uint8  \n",
      " 67  addr_state_MS                        238568 non-null  uint8  \n",
      " 68  addr_state_MT                        238568 non-null  uint8  \n",
      " 69  addr_state_NC                        238568 non-null  uint8  \n",
      " 70  addr_state_NE                        238568 non-null  uint8  \n",
      " 71  addr_state_NH                        238568 non-null  uint8  \n",
      " 72  addr_state_NJ                        238568 non-null  uint8  \n",
      " 73  addr_state_NM                        238568 non-null  uint8  \n",
      " 74  addr_state_NV                        238568 non-null  uint8  \n",
      " 75  addr_state_NY                        238568 non-null  uint8  \n",
      " 76  addr_state_OH                        238568 non-null  uint8  \n",
      " 77  addr_state_OK                        238568 non-null  uint8  \n",
      " 78  addr_state_OR                        238568 non-null  uint8  \n",
      " 79  addr_state_PA                        238568 non-null  uint8  \n",
      " 80  addr_state_RI                        238568 non-null  uint8  \n",
      " 81  addr_state_SC                        238568 non-null  uint8  \n",
      " 82  addr_state_SD                        238568 non-null  uint8  \n",
      " 83  addr_state_TN                        238568 non-null  uint8  \n",
      " 84  addr_state_TX                        238568 non-null  uint8  \n",
      " 85  addr_state_UT                        238568 non-null  uint8  \n",
      " 86  addr_state_VA                        238568 non-null  uint8  \n",
      " 87  addr_state_VT                        238568 non-null  uint8  \n",
      " 88  addr_state_WA                        238568 non-null  uint8  \n",
      " 89  addr_state_WI                        238568 non-null  uint8  \n",
      " 90  addr_state_WV                        238568 non-null  uint8  \n",
      " 91  addr_state_WY                        238568 non-null  uint8  \n",
      " 92  initial_list_status_f                238568 non-null  uint8  \n",
      "dtypes: float64(12), int32(3), int64(3), object(1), uint8(74)\n",
      "memory usage: 48.7+ MB\n"
     ]
    }
   ],
   "source": [
    "data_final.info()"
   ]
  },
  {
   "cell_type": "markdown",
   "metadata": {},
   "source": [
    "# Modelling"
   ]
  },
  {
   "cell_type": "code",
   "execution_count": 87,
   "metadata": {},
   "outputs": [],
   "source": [
    "#menentukan features dan target kita\n",
    "X = data_final.drop('loan_ending', axis = 1) #data features\n",
    "y = data_final['loan_ending'] #data target"
   ]
  },
  {
   "cell_type": "code",
   "execution_count": 88,
   "metadata": {},
   "outputs": [
    {
     "data": {
      "text/html": [
       "<div>\n",
       "<style scoped>\n",
       "    .dataframe tbody tr th:only-of-type {\n",
       "        vertical-align: middle;\n",
       "    }\n",
       "\n",
       "    .dataframe tbody tr th {\n",
       "        vertical-align: top;\n",
       "    }\n",
       "\n",
       "    .dataframe thead th {\n",
       "        text-align: right;\n",
       "    }\n",
       "</style>\n",
       "<table border=\"1\" class=\"dataframe\">\n",
       "  <thead>\n",
       "    <tr style=\"text-align: right;\">\n",
       "      <th></th>\n",
       "      <th>loan_amnt</th>\n",
       "      <th>int_rate</th>\n",
       "      <th>installment</th>\n",
       "      <th>emp_length</th>\n",
       "      <th>annual_inc</th>\n",
       "      <th>dti</th>\n",
       "      <th>delinq_2yrs</th>\n",
       "      <th>inq_last_6mths</th>\n",
       "      <th>open_acc</th>\n",
       "      <th>pub_rec</th>\n",
       "      <th>...</th>\n",
       "      <th>addr_state_TN</th>\n",
       "      <th>addr_state_TX</th>\n",
       "      <th>addr_state_UT</th>\n",
       "      <th>addr_state_VA</th>\n",
       "      <th>addr_state_VT</th>\n",
       "      <th>addr_state_WA</th>\n",
       "      <th>addr_state_WI</th>\n",
       "      <th>addr_state_WV</th>\n",
       "      <th>addr_state_WY</th>\n",
       "      <th>initial_list_status_f</th>\n",
       "    </tr>\n",
       "  </thead>\n",
       "  <tbody>\n",
       "    <tr>\n",
       "      <th>count</th>\n",
       "      <td>238568.000000</td>\n",
       "      <td>238568.000000</td>\n",
       "      <td>238568.000000</td>\n",
       "      <td>238568.000000</td>\n",
       "      <td>2.385680e+05</td>\n",
       "      <td>238568.000000</td>\n",
       "      <td>238568.000000</td>\n",
       "      <td>238568.000000</td>\n",
       "      <td>238568.000000</td>\n",
       "      <td>238568.000000</td>\n",
       "      <td>...</td>\n",
       "      <td>238568.000000</td>\n",
       "      <td>238568.000000</td>\n",
       "      <td>238568.000000</td>\n",
       "      <td>238568.000000</td>\n",
       "      <td>238568.000000</td>\n",
       "      <td>238568.000000</td>\n",
       "      <td>238568.000000</td>\n",
       "      <td>238568.000000</td>\n",
       "      <td>238568.000000</td>\n",
       "      <td>238568.000000</td>\n",
       "    </tr>\n",
       "    <tr>\n",
       "      <th>mean</th>\n",
       "      <td>13493.602348</td>\n",
       "      <td>13.855254</td>\n",
       "      <td>417.152673</td>\n",
       "      <td>5.569146</td>\n",
       "      <td>7.192109e+04</td>\n",
       "      <td>16.446962</td>\n",
       "      <td>0.248135</td>\n",
       "      <td>0.906308</td>\n",
       "      <td>10.864630</td>\n",
       "      <td>0.135026</td>\n",
       "      <td>...</td>\n",
       "      <td>0.009377</td>\n",
       "      <td>0.076045</td>\n",
       "      <td>0.008136</td>\n",
       "      <td>0.031597</td>\n",
       "      <td>0.001664</td>\n",
       "      <td>0.023075</td>\n",
       "      <td>0.012034</td>\n",
       "      <td>0.004527</td>\n",
       "      <td>0.002339</td>\n",
       "      <td>0.743645</td>\n",
       "    </tr>\n",
       "    <tr>\n",
       "      <th>std</th>\n",
       "      <td>8064.959391</td>\n",
       "      <td>4.380820</td>\n",
       "      <td>243.689410</td>\n",
       "      <td>3.716000</td>\n",
       "      <td>5.506366e+04</td>\n",
       "      <td>7.696235</td>\n",
       "      <td>0.735257</td>\n",
       "      <td>1.171023</td>\n",
       "      <td>4.824763</td>\n",
       "      <td>0.421605</td>\n",
       "      <td>...</td>\n",
       "      <td>0.096379</td>\n",
       "      <td>0.265071</td>\n",
       "      <td>0.089833</td>\n",
       "      <td>0.174925</td>\n",
       "      <td>0.040759</td>\n",
       "      <td>0.150143</td>\n",
       "      <td>0.109039</td>\n",
       "      <td>0.067131</td>\n",
       "      <td>0.048306</td>\n",
       "      <td>0.436621</td>\n",
       "    </tr>\n",
       "    <tr>\n",
       "      <th>min</th>\n",
       "      <td>500.000000</td>\n",
       "      <td>5.420000</td>\n",
       "      <td>15.670000</td>\n",
       "      <td>0.000000</td>\n",
       "      <td>1.896000e+03</td>\n",
       "      <td>0.000000</td>\n",
       "      <td>0.000000</td>\n",
       "      <td>0.000000</td>\n",
       "      <td>1.000000</td>\n",
       "      <td>0.000000</td>\n",
       "      <td>...</td>\n",
       "      <td>0.000000</td>\n",
       "      <td>0.000000</td>\n",
       "      <td>0.000000</td>\n",
       "      <td>0.000000</td>\n",
       "      <td>0.000000</td>\n",
       "      <td>0.000000</td>\n",
       "      <td>0.000000</td>\n",
       "      <td>0.000000</td>\n",
       "      <td>0.000000</td>\n",
       "      <td>0.000000</td>\n",
       "    </tr>\n",
       "    <tr>\n",
       "      <th>25%</th>\n",
       "      <td>7200.000000</td>\n",
       "      <td>10.990000</td>\n",
       "      <td>239.550000</td>\n",
       "      <td>2.000000</td>\n",
       "      <td>4.500000e+04</td>\n",
       "      <td>10.720000</td>\n",
       "      <td>0.000000</td>\n",
       "      <td>0.000000</td>\n",
       "      <td>7.000000</td>\n",
       "      <td>0.000000</td>\n",
       "      <td>...</td>\n",
       "      <td>0.000000</td>\n",
       "      <td>0.000000</td>\n",
       "      <td>0.000000</td>\n",
       "      <td>0.000000</td>\n",
       "      <td>0.000000</td>\n",
       "      <td>0.000000</td>\n",
       "      <td>0.000000</td>\n",
       "      <td>0.000000</td>\n",
       "      <td>0.000000</td>\n",
       "      <td>0.000000</td>\n",
       "    </tr>\n",
       "    <tr>\n",
       "      <th>50%</th>\n",
       "      <td>12000.000000</td>\n",
       "      <td>13.670000</td>\n",
       "      <td>365.230000</td>\n",
       "      <td>5.000000</td>\n",
       "      <td>6.150000e+04</td>\n",
       "      <td>16.150000</td>\n",
       "      <td>0.000000</td>\n",
       "      <td>1.000000</td>\n",
       "      <td>10.000000</td>\n",
       "      <td>0.000000</td>\n",
       "      <td>...</td>\n",
       "      <td>0.000000</td>\n",
       "      <td>0.000000</td>\n",
       "      <td>0.000000</td>\n",
       "      <td>0.000000</td>\n",
       "      <td>0.000000</td>\n",
       "      <td>0.000000</td>\n",
       "      <td>0.000000</td>\n",
       "      <td>0.000000</td>\n",
       "      <td>0.000000</td>\n",
       "      <td>1.000000</td>\n",
       "    </tr>\n",
       "    <tr>\n",
       "      <th>75%</th>\n",
       "      <td>18000.000000</td>\n",
       "      <td>16.590000</td>\n",
       "      <td>545.990000</td>\n",
       "      <td>10.000000</td>\n",
       "      <td>8.600000e+04</td>\n",
       "      <td>21.890000</td>\n",
       "      <td>0.000000</td>\n",
       "      <td>1.000000</td>\n",
       "      <td>13.000000</td>\n",
       "      <td>0.000000</td>\n",
       "      <td>...</td>\n",
       "      <td>0.000000</td>\n",
       "      <td>0.000000</td>\n",
       "      <td>0.000000</td>\n",
       "      <td>0.000000</td>\n",
       "      <td>0.000000</td>\n",
       "      <td>0.000000</td>\n",
       "      <td>0.000000</td>\n",
       "      <td>0.000000</td>\n",
       "      <td>0.000000</td>\n",
       "      <td>1.000000</td>\n",
       "    </tr>\n",
       "    <tr>\n",
       "      <th>max</th>\n",
       "      <td>35000.000000</td>\n",
       "      <td>26.060000</td>\n",
       "      <td>1408.130000</td>\n",
       "      <td>10.000000</td>\n",
       "      <td>7.141778e+06</td>\n",
       "      <td>39.990000</td>\n",
       "      <td>29.000000</td>\n",
       "      <td>33.000000</td>\n",
       "      <td>76.000000</td>\n",
       "      <td>11.000000</td>\n",
       "      <td>...</td>\n",
       "      <td>1.000000</td>\n",
       "      <td>1.000000</td>\n",
       "      <td>1.000000</td>\n",
       "      <td>1.000000</td>\n",
       "      <td>1.000000</td>\n",
       "      <td>1.000000</td>\n",
       "      <td>1.000000</td>\n",
       "      <td>1.000000</td>\n",
       "      <td>1.000000</td>\n",
       "      <td>1.000000</td>\n",
       "    </tr>\n",
       "  </tbody>\n",
       "</table>\n",
       "<p>8 rows × 92 columns</p>\n",
       "</div>"
      ],
      "text/plain": [
       "           loan_amnt       int_rate    installment     emp_length  \\\n",
       "count  238568.000000  238568.000000  238568.000000  238568.000000   \n",
       "mean    13493.602348      13.855254     417.152673       5.569146   \n",
       "std      8064.959391       4.380820     243.689410       3.716000   \n",
       "min       500.000000       5.420000      15.670000       0.000000   \n",
       "25%      7200.000000      10.990000     239.550000       2.000000   \n",
       "50%     12000.000000      13.670000     365.230000       5.000000   \n",
       "75%     18000.000000      16.590000     545.990000      10.000000   \n",
       "max     35000.000000      26.060000    1408.130000      10.000000   \n",
       "\n",
       "         annual_inc            dti    delinq_2yrs  inq_last_6mths  \\\n",
       "count  2.385680e+05  238568.000000  238568.000000   238568.000000   \n",
       "mean   7.192109e+04      16.446962       0.248135        0.906308   \n",
       "std    5.506366e+04       7.696235       0.735257        1.171023   \n",
       "min    1.896000e+03       0.000000       0.000000        0.000000   \n",
       "25%    4.500000e+04      10.720000       0.000000        0.000000   \n",
       "50%    6.150000e+04      16.150000       0.000000        1.000000   \n",
       "75%    8.600000e+04      21.890000       0.000000        1.000000   \n",
       "max    7.141778e+06      39.990000      29.000000       33.000000   \n",
       "\n",
       "            open_acc        pub_rec  ...  addr_state_TN  addr_state_TX  \\\n",
       "count  238568.000000  238568.000000  ...  238568.000000  238568.000000   \n",
       "mean       10.864630       0.135026  ...       0.009377       0.076045   \n",
       "std         4.824763       0.421605  ...       0.096379       0.265071   \n",
       "min         1.000000       0.000000  ...       0.000000       0.000000   \n",
       "25%         7.000000       0.000000  ...       0.000000       0.000000   \n",
       "50%        10.000000       0.000000  ...       0.000000       0.000000   \n",
       "75%        13.000000       0.000000  ...       0.000000       0.000000   \n",
       "max        76.000000      11.000000  ...       1.000000       1.000000   \n",
       "\n",
       "       addr_state_UT  addr_state_VA  addr_state_VT  addr_state_WA  \\\n",
       "count  238568.000000  238568.000000  238568.000000  238568.000000   \n",
       "mean        0.008136       0.031597       0.001664       0.023075   \n",
       "std         0.089833       0.174925       0.040759       0.150143   \n",
       "min         0.000000       0.000000       0.000000       0.000000   \n",
       "25%         0.000000       0.000000       0.000000       0.000000   \n",
       "50%         0.000000       0.000000       0.000000       0.000000   \n",
       "75%         0.000000       0.000000       0.000000       0.000000   \n",
       "max         1.000000       1.000000       1.000000       1.000000   \n",
       "\n",
       "       addr_state_WI  addr_state_WV  addr_state_WY  initial_list_status_f  \n",
       "count  238568.000000  238568.000000  238568.000000          238568.000000  \n",
       "mean        0.012034       0.004527       0.002339               0.743645  \n",
       "std         0.109039       0.067131       0.048306               0.436621  \n",
       "min         0.000000       0.000000       0.000000               0.000000  \n",
       "25%         0.000000       0.000000       0.000000               0.000000  \n",
       "50%         0.000000       0.000000       0.000000               1.000000  \n",
       "75%         0.000000       0.000000       0.000000               1.000000  \n",
       "max         1.000000       1.000000       1.000000               1.000000  \n",
       "\n",
       "[8 rows x 92 columns]"
      ]
     },
     "execution_count": 88,
     "metadata": {},
     "output_type": "execute_result"
    }
   ],
   "source": [
    "X.describe()"
   ]
  },
  {
   "cell_type": "code",
   "execution_count": 91,
   "metadata": {},
   "outputs": [
    {
     "data": {
      "text/plain": [
       "good    186464\n",
       "risk     52104\n",
       "Name: loan_ending, dtype: int64"
      ]
     },
     "execution_count": 91,
     "metadata": {},
     "output_type": "execute_result"
    }
   ],
   "source": [
    "y.value_counts()"
   ]
  },
  {
   "cell_type": "code",
   "execution_count": 92,
   "metadata": {},
   "outputs": [],
   "source": [
    "from sklearn.model_selection import train_test_split\n",
    "\n",
    "train_X, val_X, train_y, val_y = train_test_split(X, y, random_state = 0)"
   ]
  },
  {
   "cell_type": "code",
   "execution_count": 97,
   "metadata": {},
   "outputs": [],
   "source": [
    "#Models\n",
    "from sklearn.model_selection import cross_val_score\n",
    "from sklearn.tree import DecisionTreeClassifier\n",
    "from sklearn.neighbors import KNeighborsClassifier\n",
    "from sklearn.ensemble import RandomForestClassifier\n",
    "from sklearn.svm import SVC\n",
    "from xgboost import XGBClassifier\n",
    "from sklearn.ensemble import VotingClassifier\n",
    "\n",
    "#Evaluation\n",
    "from sklearn.metrics import confusion_matrix\n",
    "from sklearn.metrics import classification_report"
   ]
  },
  {
   "cell_type": "code",
   "execution_count": 103,
   "metadata": {},
   "outputs": [
    {
     "name": "stdout",
     "output_type": "stream",
     "text": [
      "              precision    recall  f1-score   support\n",
      "\n",
      "        good       0.81      0.80      0.80     46760\n",
      "        risk       0.29      0.31      0.30     12882\n",
      "\n",
      "    accuracy                           0.69     59642\n",
      "   macro avg       0.55      0.55      0.55     59642\n",
      "weighted avg       0.70      0.69      0.69     59642\n",
      "\n"
     ]
    }
   ],
   "source": [
    "#Decision tree\n",
    "dtree = DecisionTreeClassifier(random_state = 14)\n",
    "dtree = dtree.fit(train_X, train_y)\n",
    "pred_y = dtree.predict(val_X)\n",
    "print(classification_report(val_y, pred_y))"
   ]
  },
  {
   "cell_type": "code",
   "execution_count": 104,
   "metadata": {},
   "outputs": [
    {
     "name": "stdout",
     "output_type": "stream",
     "text": [
      "              precision    recall  f1-score   support\n",
      "\n",
      "        good       0.79      0.92      0.85     46760\n",
      "        risk       0.28      0.11      0.16     12882\n",
      "\n",
      "    accuracy                           0.75     59642\n",
      "   macro avg       0.53      0.52      0.50     59642\n",
      "weighted avg       0.68      0.75      0.70     59642\n",
      "\n"
     ]
    }
   ],
   "source": [
    "#KNN\n",
    "knn = KNeighborsClassifier()\n",
    "knn.fit(train_X, train_y)\n",
    "pred_y = knn.predict(val_X)\n",
    "print(classification_report(val_y, pred_y))"
   ]
  },
  {
   "cell_type": "code",
   "execution_count": 105,
   "metadata": {},
   "outputs": [
    {
     "name": "stdout",
     "output_type": "stream",
     "text": [
      "              precision    recall  f1-score   support\n",
      "\n",
      "        good       0.80      0.98      0.88     46760\n",
      "        risk       0.57      0.08      0.14     12882\n",
      "\n",
      "    accuracy                           0.79     59642\n",
      "   macro avg       0.68      0.53      0.51     59642\n",
      "weighted avg       0.75      0.79      0.72     59642\n",
      "\n"
     ]
    }
   ],
   "source": [
    "#Random Forest\n",
    "randof = RandomForestClassifier(random_state = 14)\n",
    "randof.fit(train_X, train_y)\n",
    "pred_y = randof.predict(val_X)\n",
    "print(classification_report(val_y, pred_y))"
   ]
  },
  {
   "cell_type": "code",
   "execution_count": 107,
   "metadata": {},
   "outputs": [
    {
     "name": "stdout",
     "output_type": "stream",
     "text": [
      "              precision    recall  f1-score   support\n",
      "\n",
      "           0       0.53      0.12      0.19     12882\n",
      "           1       0.80      0.97      0.88     46760\n",
      "\n",
      "    accuracy                           0.79     59642\n",
      "   macro avg       0.67      0.54      0.54     59642\n",
      "weighted avg       0.74      0.79      0.73     59642\n",
      "\n"
     ]
    }
   ],
   "source": [
    "#XGB\n",
    "xgb = XGBClassifier(random_state = 14)\n",
    "\n",
    "#mengubah nilai y karena xgboost hanya bisa numerical\n",
    "only_train_y = np.where(train_y == 'good', 1, 0)\n",
    "only_val_y = np.where(val_y == 'good', 1, 0)\n",
    "\n",
    "xgb.fit(train_X, only_train_y)\n",
    "pred_y = xgb.predict(val_X)\n",
    "print(classification_report(only_val_y, pred_y))"
   ]
  },
  {
   "cell_type": "code",
   "execution_count": 108,
   "metadata": {},
   "outputs": [
    {
     "name": "stdout",
     "output_type": "stream",
     "text": [
      "              precision    recall  f1-score   support\n",
      "\n",
      "        good       0.79      0.99      0.88     46760\n",
      "        risk       0.55      0.05      0.10     12882\n",
      "\n",
      "    accuracy                           0.79     59642\n",
      "   macro avg       0.67      0.52      0.49     59642\n",
      "weighted avg       0.74      0.79      0.71     59642\n",
      "\n"
     ]
    }
   ],
   "source": [
    "#ensemble soft voting classifier\n",
    "v_clf = VotingClassifier(estimators = [('knn',knn),('randof',randof),('xgb',xgb)], voting = 'soft')\n",
    "v_clf.fit(train_X, train_y)\n",
    "pred_y = v_clf.predict(val_X)\n",
    "print(classification_report(val_y, pred_y))"
   ]
  },
  {
   "attachments": {},
   "cell_type": "markdown",
   "metadata": {},
   "source": [
    "Dari klasifikasi report diatas dapat diambil beberapa poin:\n",
    "\n",
    "1. Precision = jika presisi >0.5 maka variabel prediksi benar lebih tinggi daripada variabel prediksi salah. Misalkan, presisi 'good' adalah 0.81 maka dari semua pinjaman yang diprediksi 'good' 81% benar pinjaman 'good' dan 19% adalah pinjaman risk\n",
    "2. Recall = jika recall >0.5 maka berdasarkan dari nilai sebernarnya, kita telah memprediksi lebih dari 50% benar. Misalkan, 'good' recall dari 0.80 adalah kita telah memprediksi pinjaman 'good' 80% benar dan 20% salah\n",
    "\n",
    "Untuk accuracy tidak dapat menjadi penjamin, karena itu kita harus melihat juga dari precision dan recall.\n",
    "\n",
    "Sebagai kesimpulan:\n",
    "1. precision 'good' tinggi berarti kita kurang mendapat pinjaman risk ('good' tinggi = prediksi pinjaman bagus/good loan benar terprediksi)\n",
    "2. precision 'risk' tinggi berarti kita menghindari pinjaman risk ('risk' tinggi = prediksi pinjaman risk/risk loan benar terprediksi) sehingga model telah mampu memprediksi dan kita dapat menghindari pinjaman risk\n",
    "3. high 'good' recall berarti kita telah mendapat banyak pinjaman good yang ada (dalam kasus saya nilai recall setinggi mungkin)\n",
    "4. high 'risk' recall berarti kita telah menghindari pinjaman risk yang ada (dalam kasus saya kalau bisa nilai lebih dari 50%)\n",
    "\n",
    "Dari beberapa model diatas, dilihat dari syarat di kesimpulan, model terbaik yang bisa dipakai adalah\n",
    "1. Random Forest: dalam algoritma ini, terdapat 80% pinjaman good dan 20% pinjaman risk, dan kita telah mendapat 98% pinjaman 'good' yang ada. Kita juga telah menghindari 57% pinjaman risk\n",
    "2. XGB: dalam algoritma ini, terdapat 80% pinjaman good dan 20% pinjaman risk, dan kita telah mendapat 97% pinjaman 'good' yang ada. Kita juga telah menghindari 53% pinjaman risk\n",
    "3. Soft Voting Classifier: dalam algoritma ini, terdapat 79% pinjaman good dan 21% pinjaman risk, dan kita telah mendapat 99% pinjaman 'good' yang ada. Kita juga telah menghindari 55% pinjaman risk\n",
    "\n",
    "Karena saya belum terlalu mempelajari mengenai tuning parameter, prediksi model machine learning akan saya selesaikan sampai sini. Selanjutnya jika model ingin lebih baik silahkan mencoba tunning parameter sehingga menghasilkan precision dan recall yang lebih baik."
   ]
  },
  {
   "cell_type": "code",
   "execution_count": null,
   "metadata": {},
   "outputs": [],
   "source": []
  }
 ],
 "metadata": {
  "kernelspec": {
   "display_name": "Python 3",
   "language": "python",
   "name": "python3"
  },
  "language_info": {
   "codemirror_mode": {
    "name": "ipython",
    "version": 3
   },
   "file_extension": ".py",
   "mimetype": "text/x-python",
   "name": "python",
   "nbconvert_exporter": "python",
   "pygments_lexer": "ipython3",
   "version": "3.8.5"
  }
 },
 "nbformat": 4,
 "nbformat_minor": 4
}
